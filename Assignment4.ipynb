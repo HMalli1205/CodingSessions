{
  "cells": [
    {
      "cell_type": "markdown",
      "metadata": {
        "id": "view-in-github",
        "colab_type": "text"
      },
      "source": [
        "<a href=\"https://colab.research.google.com/github/HMalli1205/CodingSessions/blob/main/Assignment4.ipynb\" target=\"_parent\"><img src=\"https://colab.research.google.com/assets/colab-badge.svg\" alt=\"Open In Colab\"/></a>"
      ]
    },
    {
      "cell_type": "code",
      "execution_count": null,
      "metadata": {
        "colab": {
          "base_uri": "https://localhost:8080/"
        },
        "id": "UBd3-p2_Ildr",
        "outputId": "c4013442-6254-4f2a-886c-12426b76ae90"
      },
      "outputs": [
        {
          "name": "stdout",
          "output_type": "stream",
          "text": [
            "Enter a number: 3\n",
            "The multiplication table of 3 upto 10 multiples is given by: \n",
            "3*1=3\n",
            "3*2=6\n",
            "3*3=9\n",
            "3*4=12\n",
            "3*5=15\n",
            "3*6=18\n",
            "3*7=21\n",
            "3*8=24\n",
            "3*9=27\n",
            "3*10=30\n"
          ]
        }
      ],
      "source": [
        "#4.Write a program to print multiplication table of any given number(using 'for' loop)\n",
        "num=int(input(\"Enter a number: \"))\n",
        "nom=range(1,11)\n",
        "print(\"The multiplication table of {} upto 10 multiples is given by: \".format(num))\n",
        "for y in nom:\n",
        "  print(\"{}*{}={}\".format(num,y,num*y))"
      ]
    },
    {
      "cell_type": "code",
      "source": [
        "#1.Write a program in Python to display the Factorial of a number\n",
        "num=int(input(\"Enter a number: \"))\n",
        "x=range(1,num+1)\n",
        "frl=1\n",
        "for y in x:\n",
        "  frl=frl*int(y)\n",
        "print(\"Factorial of {} : {}!={}\".format(num,num,frl))"
      ],
      "metadata": {
        "id": "tO7D63vKP-qn",
        "colab": {
          "base_uri": "https://localhost:8080/"
        },
        "outputId": "e4e51935-7b50-4ba1-f3d2-886bd2b9cd7e"
      },
      "execution_count": null,
      "outputs": [
        {
          "output_type": "stream",
          "name": "stdout",
          "text": [
            "Enter a number: 6\n",
            "Factorial of 6 : 6!=720\n"
          ]
        }
      ]
    },
    {
      "cell_type": "code",
      "source": [
        "#7.Display Fibonacci series up to 10 terms\n",
        "#(The Fibonacci Sequence is a series of numbers. The next number is found by adding up the two numbers before it. The first two numbers are 0 and 1.\n",
        "#For example, 0, 1, 1, 2, 3, 5, 8, 13, 21. The next number in this series above is 13+21 = 34.)\n",
        "\n",
        "x=range(1,11)\n",
        "a=-1\n",
        "b=1\n",
        "for y in x:\n",
        "  c=a+b\n",
        "  a=c-a\n",
        "  b=c\n",
        "  print(c)"
      ],
      "metadata": {
        "id": "rTq5mwxRVItH",
        "colab": {
          "base_uri": "https://localhost:8080/"
        },
        "outputId": "a2ffe421-64be-429c-b228-ae2ca8674878"
      },
      "execution_count": null,
      "outputs": [
        {
          "output_type": "stream",
          "name": "stdout",
          "text": [
            "0\n",
            "1\n",
            "1\n",
            "2\n",
            "3\n",
            "5\n",
            "8\n",
            "13\n",
            "21\n",
            "34\n"
          ]
        }
      ]
    },
    {
      "cell_type": "code",
      "source": [
        "#8.Write a python program that accepts a word from the user and returns it.\n",
        "str_1=input(\"Enter any word: \")\n",
        "ind=-1\n",
        "revstr=''\n",
        "for eachchr in str_1:\n",
        "  revstr=revstr+str_1[ind]\n",
        "  ind=ind-1\n",
        "print(\"Reversed word: \",revstr)\n"
      ],
      "metadata": {
        "id": "p7IbRgmawnxG",
        "colab": {
          "base_uri": "https://localhost:8080/"
        },
        "outputId": "ea993a49-165c-4d97-b2e5-bce7afa66dcf"
      },
      "execution_count": null,
      "outputs": [
        {
          "output_type": "stream",
          "name": "stdout",
          "text": [
            "Enter any word: spirit\n",
            "Reversed word:  tirips\n"
          ]
        }
      ]
    },
    {
      "cell_type": "code",
      "source": [
        "#2.Write a program in python to reverse the word with the help of while loop and for loop.\n",
        "\n",
        "#using while loop:\n",
        "\n",
        "str_x=input(\"Enter any string: \")\n",
        "y=-1\n",
        "revstr_x=\"\"\n",
        "while y>=-(int(len(str_x))):\n",
        "  revstr_x=revstr_x+str_x[y]\n",
        "  y=y-1\n",
        "print(\"Reversed word-using while loop: \",revstr_x)\n",
        "\n",
        "#using for loop:\n",
        "\n",
        "str_y=input(\"Enter any string: \")\n",
        "z=0\n",
        "revstr_y=\"\"\n",
        "for y in str_y:\n",
        "  z=z-1\n",
        "  revstr_y=revstr_y+str_y[z]\n",
        "print(\"Reversed word-using for loop: \",revstr_y)\n"
      ],
      "metadata": {
        "colab": {
          "base_uri": "https://localhost:8080/"
        },
        "id": "QX5-Kse5RBmr",
        "outputId": "e19b59d7-4829-4980-ea1c-9661a34b3032"
      },
      "execution_count": null,
      "outputs": [
        {
          "output_type": "stream",
          "name": "stdout",
          "text": [
            "Enter any string: raksha\n",
            "Reversed word-using while loop:  ahskar\n",
            "Enter any string: bandhan\n",
            "Reversed word-using for loop:  nahdnab\n"
          ]
        }
      ]
    },
    {
      "cell_type": "code",
      "source": [
        "#6.Write a program to display all the primary numbers within a range.\n",
        "#A prime number is a number that cannot be made by multiplying two natural numbers other than 1 and the number itself\n",
        "#A prime number is a natural number that cannot be written as the product of two natural numbers lesser than it.\n",
        "#example: 6 cannot be a primary number because it is the product of two natural numbers 2 and 3 that are lesser than 6,and need not be written as product of 1 and the number 6 itself\n",
        "#    19 is a primary number because it cannot be written as the product of two natural numbers lesser than it. It can only be written as the product of 1 and 37 itself.\n",
        "\n",
        "#below is the program to display all the prime numbers in the range of natural numbers 1 to 100\n",
        "x=range(2,101)\n",
        "for y in x:\n",
        "  while y%2!=0 or y==2:\n",
        "    while y%3!=0 or y==3:\n",
        "      while y%5!=0 or y==5:\n",
        "        while y%7!=0 or y==7:\n",
        "          print(y)\n",
        "          break\n",
        "        break\n",
        "      break\n",
        "    break\n",
        "  y=y+1\n"
      ],
      "metadata": {
        "id": "V2i8H5DgRbsW",
        "colab": {
          "base_uri": "https://localhost:8080/"
        },
        "outputId": "d35563aa-485c-4acc-c6b3-7fda7c74f813"
      },
      "execution_count": null,
      "outputs": [
        {
          "output_type": "stream",
          "name": "stdout",
          "text": [
            "2\n",
            "3\n",
            "5\n",
            "7\n",
            "11\n",
            "13\n",
            "17\n",
            "19\n",
            "23\n",
            "29\n",
            "31\n",
            "37\n",
            "41\n",
            "43\n",
            "47\n",
            "53\n",
            "59\n",
            "61\n",
            "67\n",
            "71\n",
            "73\n",
            "79\n",
            "83\n",
            "89\n",
            "97\n"
          ]
        }
      ]
    },
    {
      "cell_type": "code",
      "source": [
        "#5.Count the total number of digits in a number.For example,the number is 758692,so the output should be 6\n",
        "\n",
        "int_1=int(input(\"Enter a number: \"))\n",
        "digits=str(int_1)\n",
        "for y in digits:\n",
        "  while int(y)<len(digits):\n",
        "    y=int(y)+1\n",
        "print(\"Number of digits in the entered number: \",y)"
      ],
      "metadata": {
        "colab": {
          "base_uri": "https://localhost:8080/"
        },
        "id": "gYdxN4mzvbj5",
        "outputId": "999b270c-f1dd-4444-e441-99716a67bd8d"
      },
      "execution_count": null,
      "outputs": [
        {
          "output_type": "stream",
          "name": "stdout",
          "text": [
            "Enter a number: 1234567890\n",
            "Number of digits in the entered number:  10\n"
          ]
        }
      ]
    },
    {
      "cell_type": "code",
      "source": [
        "#3.Write a program to print n natural numbers in descending order using a while loop.\n",
        "int_2=int(input(\"Enter a natural number n: \"))\n",
        "print(\"First {} natural numbers arranged in descending order: \".format(int_2))\n",
        "while int_2>=1:\n",
        "  print(int_2)\n",
        "  int_2=int_2-1"
      ],
      "metadata": {
        "id": "rZ08bAtn63XU",
        "colab": {
          "base_uri": "https://localhost:8080/"
        },
        "outputId": "5ba1e1ca-4bc7-428d-a852-651d60898b82"
      },
      "execution_count": 44,
      "outputs": [
        {
          "output_type": "stream",
          "name": "stdout",
          "text": [
            "Enter a natural number n: 7\n",
            "First 7 natural numbers arranged in descending order: \n",
            "7\n",
            "6\n",
            "5\n",
            "4\n",
            "3\n",
            "2\n",
            "1\n"
          ]
        }
      ]
    },
    {
      "cell_type": "code",
      "source": [],
      "metadata": {
        "id": "HdSkaRAy8YfR"
      },
      "execution_count": null,
      "outputs": []
    }
  ],
  "metadata": {
    "colab": {
      "provenance": [],
      "authorship_tag": "ABX9TyNDXj8rpv/ag4guoSW2ic2n",
      "include_colab_link": true
    },
    "kernelspec": {
      "display_name": "Python 3",
      "name": "python3"
    },
    "language_info": {
      "name": "python"
    }
  },
  "nbformat": 4,
  "nbformat_minor": 0
}