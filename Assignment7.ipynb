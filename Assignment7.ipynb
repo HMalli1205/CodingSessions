{
  "nbformat": 4,
  "nbformat_minor": 0,
  "metadata": {
    "colab": {
      "provenance": [],
      "authorship_tag": "ABX9TyOgs7Lhc4x34de7t0K7/kzF",
      "include_colab_link": true
    },
    "kernelspec": {
      "name": "python3",
      "display_name": "Python 3"
    },
    "language_info": {
      "name": "python"
    }
  },
  "cells": [
    {
      "cell_type": "markdown",
      "metadata": {
        "id": "view-in-github",
        "colab_type": "text"
      },
      "source": [
        "<a href=\"https://colab.research.google.com/github/HMalli1205/CodingSessions/blob/main/Assignment7.ipynb\" target=\"_parent\"><img src=\"https://colab.research.google.com/assets/colab-badge.svg\" alt=\"Open In Colab\"/></a>"
      ]
    },
    {
      "cell_type": "code",
      "source": [
        "#1. Write a python program to loop through all the elements in a list.\n",
        "list_1=[1,2,3,4,5,6]\n",
        "for elements in list_1:\n",
        "  print(elements)"
      ],
      "metadata": {
        "colab": {
          "base_uri": "https://localhost:8080/"
        },
        "id": "VlegepMdulMc",
        "outputId": "09f16962-260e-4656-b094-1085980bdace"
      },
      "execution_count": null,
      "outputs": [
        {
          "output_type": "stream",
          "name": "stdout",
          "text": [
            "1\n",
            "2\n",
            "3\n",
            "4\n",
            "5\n",
            "6\n"
          ]
        }
      ]
    },
    {
      "cell_type": "code",
      "source": [
        "#3. Write a python program to remove all the odd indexed values and only even indexed values should remain\n",
        "list_2=[1,2,3,4,5,'a','b','c']\n",
        "even_ind_val=[]\n",
        "for x in range(0,len(list_2)):\n",
        "  if x%2==0:\n",
        "    even_ind_val.append(list_2[x])\n",
        "print(even_ind_val)"
      ],
      "metadata": {
        "id": "WuxU8kmYvbL3",
        "colab": {
          "base_uri": "https://localhost:8080/"
        },
        "outputId": "753f9092-542d-4911-8dfb-858bcaef4a2e"
      },
      "execution_count": null,
      "outputs": [
        {
          "output_type": "stream",
          "name": "stdout",
          "text": [
            "[1, 3, 5, 'b']\n"
          ]
        }
      ]
    },
    {
      "cell_type": "code",
      "source": [
        "#10.Write a python program to reverse a given list.\n",
        "list_3=[1,2,3,4,5]\n",
        "lst_rev=[]\n",
        "for x in range(-1,(-len(list_3)-1),-1):\n",
        "  lst_rev.append(list_3[x])\n",
        "print(lst_rev)"
      ],
      "metadata": {
        "id": "_wh_6eBiwduj",
        "colab": {
          "base_uri": "https://localhost:8080/"
        },
        "outputId": "2def11df-2083-46de-9796-fbbd7119747b"
      },
      "execution_count": null,
      "outputs": [
        {
          "output_type": "stream",
          "name": "stdout",
          "text": [
            "[5, 4, 3, 2, 1]\n"
          ]
        }
      ]
    },
    {
      "cell_type": "code",
      "source": [
        "#9.Write a python program to count integers in a given mixed list.\n",
        "list_4=['1','2','3','a','b','c','4','5','d']         #since int object has no attribute isdigit(),we write int values as string values\n",
        "int_list=[]\n",
        "for y in list_4:\n",
        "  if y.isdigit():\n",
        "    int_list.append(y)\n",
        "print(len(int_list))"
      ],
      "metadata": {
        "colab": {
          "base_uri": "https://localhost:8080/"
        },
        "id": "a7f_m-Nb1j4i",
        "outputId": "c0eefebf-c200-4164-e549-1892b4fcb522"
      },
      "execution_count": null,
      "outputs": [
        {
          "output_type": "stream",
          "name": "stdout",
          "text": [
            "5\n"
          ]
        }
      ]
    },
    {
      "cell_type": "code",
      "source": [
        "#11.Write a python program to constuct a given string to a tuple\n",
        "str_1=input(\"Enter a string:\") #packing\n",
        "x,*y=str_1  #unpacking\n",
        "emp_list=()\n",
        "str_to_tup=emp_list+(x,y)\n",
        "print(str_to_tup)"
      ],
      "metadata": {
        "colab": {
          "base_uri": "https://localhost:8080/"
        },
        "id": "hMpp9ATI2cQ8",
        "outputId": "01769f0a-ac8e-4580-fdac-cee5877e8ebe"
      },
      "execution_count": null,
      "outputs": [
        {
          "output_type": "stream",
          "name": "stdout",
          "text": [
            "Enter a string:malli@hyd2003\n",
            "('m', ['a', 'l', 'l', 'i', '@', 'h', 'y', 'd', '2', '0', '0', '3'])\n"
          ]
        }
      ]
    },
    {
      "cell_type": "code",
      "source": [
        "#6.\n",
        "list_5=['Red', 'Green', 'White', 'Black', 'Pink', 'Yellow']\n",
        "new_list=[]\n",
        "for x in range(0,len(list_5)):\n",
        "  if x!=0 and x!=4 and x!=5:   #we use 'and' operator because we want no elements in 0th,4th,5th indices at all.If we use 'or' operator, the other two conditions are satisified.\n",
        "    new_list.append(list_5[x])\n",
        "print(new_list)"
      ],
      "metadata": {
        "colab": {
          "base_uri": "https://localhost:8080/"
        },
        "id": "CFTdH1lW8NpY",
        "outputId": "ebccd688-0bb2-44bf-a2ca-26601e0a5f74"
      },
      "execution_count": null,
      "outputs": [
        {
          "output_type": "stream",
          "name": "stdout",
          "text": [
            "['Green', 'White', 'Black']\n"
          ]
        }
      ]
    },
    {
      "cell_type": "code",
      "source": [
        "#4. Write a python program to compute the sum and product of all the elements in a list.\n",
        "list_6=[1,2,3,4,5,6,7,8,9,10]\n",
        "x=0\n",
        "sum=0\n",
        "product=1\n",
        "while x<len(list_6):\n",
        "  sum=sum+list_6[x]\n",
        "  product=product*list_6[x]\n",
        "  x=x+1\n",
        "print(\"The sum of elements in the list is:\",sum)\n",
        "print(\"The product of elements in the list is:\",product)"
      ],
      "metadata": {
        "id": "5d80nQ-Q-c_X",
        "colab": {
          "base_uri": "https://localhost:8080/"
        },
        "outputId": "67a627a5-8ce3-4d9a-b8bd-4a6451097e1b"
      },
      "execution_count": null,
      "outputs": [
        {
          "output_type": "stream",
          "name": "stdout",
          "text": [
            "The sum of elements in the list is: 55\n",
            "The product of elements in the list is: 3628800\n"
          ]
        }
      ]
    },
    {
      "cell_type": "code",
      "source": [
        "#2.Write a python program where you will ask the users to insert elements in a list.\n",
        "y=0\n",
        "lst=[]\n",
        "while y<=5:\n",
        "  elmt=str(input(\"Enter an element: \"))    #str contructor can convert any datatype(like complex,float,int) to string itself\n",
        "  lst.insert(y,elmt)                       #using insert() method, we can add a new element to the list at the given index value i.e insert(index_value,element).\n",
        "  y=y+1                                    #we just ask for elements, the index values are given by default from 0(since we created and empty list)\n",
        "print(\"List with the entered elements: \",lst)                          #because list are ordered and follow and order of insertion."
      ],
      "metadata": {
        "colab": {
          "base_uri": "https://localhost:8080/"
        },
        "id": "BeVlbpltf_8t",
        "outputId": "93c2512b-e75e-4930-d0b4-ea9893ff6b69"
      },
      "execution_count": null,
      "outputs": [
        {
          "output_type": "stream",
          "name": "stdout",
          "text": [
            "Enter an element: 1\n",
            "Enter an element: a\n",
            "Enter an element: 2+1j\n",
            "Enter an element: bb\n",
            "Enter an element: [100,200,'msds']\n",
            "Enter an element: (3,4,5)\n",
            "List with the entered elements:  ['1', 'a', '2+1j', 'bb', \"[100,200,'msds']\", '(3,4,5)']\n"
          ]
        }
      ]
    },
    {
      "cell_type": "code",
      "source": [
        "#8.Write a python program to compute average of a given list\n",
        "list_7=[1,2,3,4,5,6]\n",
        "x=0\n",
        "sum=0\n",
        "while x<len(list_7):\n",
        "  sum=sum+list_7[x]\n",
        "  x=x+1\n",
        "print(\"Average of the elements in list is {}\".format(sum/len(list_7)))"
      ],
      "metadata": {
        "colab": {
          "base_uri": "https://localhost:8080/"
        },
        "id": "aTcjhr2wf_3q",
        "outputId": "1d153a72-deef-4256-d07f-96cfd23c0d86"
      },
      "execution_count": null,
      "outputs": [
        {
          "output_type": "stream",
          "name": "stdout",
          "text": [
            "Average of the elements in list is 3.5\n"
          ]
        }
      ]
    },
    {
      "cell_type": "code",
      "source": [
        "#7.Write a python program to convert a list of characters into a string.\n",
        "list_8=['m','a','l','l','i','@','h','y','d',2,0,0,3]\n",
        "str_8=''\n",
        "for y in list_8:\n",
        "  str_8=str_8+str(y)\n",
        "print(\"String obtained from given list: \",str_8)"
      ],
      "metadata": {
        "colab": {
          "base_uri": "https://localhost:8080/"
        },
        "id": "fa-rihR8hTV-",
        "outputId": "8d000254-c6d7-4b00-c9fa-3e7a765c7e09"
      },
      "execution_count": null,
      "outputs": [
        {
          "output_type": "stream",
          "name": "stdout",
          "text": [
            "String obtained from given list:  malli@hyd2003\n"
          ]
        }
      ]
    },
    {
      "cell_type": "code",
      "source": [
        "#5.\n",
        "lst1=[10,41,32,21]\n",
        "x=0\n",
        "y=x-1\n",
        "while x<len(lst1):\n",
        "  for a in lst1:\n",
        "    if a>lst1[x] and a>lst[y]:\n",
        "      print(a)\n",
        "  x=x+1"
      ],
      "metadata": {
        "colab": {
          "base_uri": "https://localhost:8080/"
        },
        "id": "IGEaUZrrWhSR",
        "outputId": "fe1ce521-22fc-4fe4-a024-35de24888ed1"
      },
      "execution_count": null,
      "outputs": [
        {
          "output_type": "stream",
          "name": "stdout",
          "text": [
            "41\n",
            "32\n",
            "41\n",
            "41\n",
            "32\n"
          ]
        }
      ]
    },
    {
      "cell_type": "code",
      "source": [],
      "metadata": {
        "id": "fru3UBEncOOs"
      },
      "execution_count": null,
      "outputs": []
    }
  ]
}