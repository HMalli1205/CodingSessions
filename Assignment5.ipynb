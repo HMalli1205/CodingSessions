{
  "cells": [
    {
      "cell_type": "markdown",
      "metadata": {
        "id": "view-in-github",
        "colab_type": "text"
      },
      "source": [
        "<a href=\"https://colab.research.google.com/github/HMalli1205/CodingSessions/blob/main/Assignment5.ipynb\" target=\"_parent\"><img src=\"https://colab.research.google.com/assets/colab-badge.svg\" alt=\"Open In Colab\"/></a>"
      ]
    },
    {
      "cell_type": "code",
      "source": [
        "#1. Create a python program to print upper case English alphabets(A-Z) using the for loop concept"
      ],
      "metadata": {
        "id": "EWY5THX1bOEJ"
      },
      "execution_count": null,
      "outputs": []
    },
    {
      "cell_type": "code",
      "execution_count": null,
      "metadata": {
        "colab": {
          "base_uri": "https://localhost:8080/"
        },
        "id": "seqsOoalxEYU",
        "outputId": "8c49756d-df0d-43f7-e000-d3e55dade77f"
      },
      "outputs": [
        {
          "name": "stdout",
          "output_type": "stream",
          "text": [
            "* * * * * *\n",
            "*         *\n",
            "*         *\n",
            "*         *\n",
            "* * * * * *\n",
            "*         *\n",
            "*         *\n",
            "*         *\n",
            "*         *\n"
          ]
        }
      ],
      "source": [
        "#A\n",
        "for y in range(0,9):\n",
        "  if y==0:\n",
        "    print(\"* * * * * *\")\n",
        "  elif y==1 or y==2 or y==3 or y==5 or y==6 or y==7 or y==8:\n",
        "    print(\"*         *\")\n",
        "  else:\n",
        "    print(\"* * * * * *\")"
      ]
    },
    {
      "cell_type": "code",
      "execution_count": null,
      "metadata": {
        "colab": {
          "base_uri": "https://localhost:8080/"
        },
        "id": "TWRM_LyOzJFB",
        "outputId": "0d100fa9-31c3-4835-bd8f-063e6adaf4d8"
      },
      "outputs": [
        {
          "name": "stdout",
          "output_type": "stream",
          "text": [
            "* * * * *\n",
            "*         *\n",
            "*           *\n",
            "* * * * * *\n",
            "*           *\n",
            "*         *\n",
            "* * * * *\n"
          ]
        }
      ],
      "source": [
        "#B\n",
        "for y in range(1,8):\n",
        "  if y==1 or y==7:\n",
        "    print(\"* * * * *\")\n",
        "  elif y==2 or y==6:\n",
        "    print(\"*         *\")\n",
        "  elif y==3 or y==5:\n",
        "    print(\"*           *\")\n",
        "  else:\n",
        "    print(\"* * * * * *\")\n"
      ]
    },
    {
      "cell_type": "code",
      "execution_count": null,
      "metadata": {
        "colab": {
          "base_uri": "https://localhost:8080/"
        },
        "id": "XS8A3xKS0sl2",
        "outputId": "a8e59f6b-1a41-4651-dd63-a9fcb10847fe"
      },
      "outputs": [
        {
          "name": "stdout",
          "output_type": "stream",
          "text": [
            "* * * * * *\n",
            "*          \n",
            "*          \n",
            "*          \n",
            "*          \n",
            "*          \n",
            "*          \n",
            "* * * * * *\n"
          ]
        }
      ],
      "source": [
        " #C\n",
        " for y in range(1,9):\n",
        "  if y==1 or y==8:\n",
        "    print(\"* * * * * *\")\n",
        "  else:\n",
        "    print(\"*          \")"
      ]
    },
    {
      "cell_type": "code",
      "execution_count": null,
      "metadata": {
        "colab": {
          "base_uri": "https://localhost:8080/"
        },
        "id": "-BY71qpJ8bTp",
        "outputId": "2f6aef01-5495-414f-c572-1fa7bada1a1c"
      },
      "outputs": [
        {
          "name": "stdout",
          "output_type": "stream",
          "text": [
            "* *      \n",
            "*   *    \n",
            "*     *  \n",
            "*     *  \n",
            "*   *    \n",
            "* *      \n"
          ]
        }
      ],
      "source": [
        "#D\n",
        "for y in range(1,7):\n",
        "  if y==1 or y==6:\n",
        "    print(\"* *      \")\n",
        "  elif y==2 or y==5:\n",
        "    print(\"*   *    \")\n",
        "  else:\n",
        "    print(\"*     *  \")"
      ]
    },
    {
      "cell_type": "code",
      "execution_count": null,
      "metadata": {
        "colab": {
          "base_uri": "https://localhost:8080/"
        },
        "id": "VrPeN-or9Llf",
        "outputId": "d2cd91d8-18fb-4699-c6d8-5c302400d128"
      },
      "outputs": [
        {
          "name": "stdout",
          "output_type": "stream",
          "text": [
            "* * * *\n",
            "*      \n",
            "* * * *\n",
            "*      \n",
            "* * * *\n"
          ]
        }
      ],
      "source": [
        "#E\n",
        "for y in range(0,5):\n",
        "  if y==1 or y==3:\n",
        "    print(\"*      \")\n",
        "  else:\n",
        "    print(\"* * * *\")\n"
      ]
    },
    {
      "cell_type": "code",
      "execution_count": null,
      "metadata": {
        "colab": {
          "base_uri": "https://localhost:8080/"
        },
        "id": "lYdCzpro-GhP",
        "outputId": "44e700d2-8715-449e-fcce-6f313b6c05bd"
      },
      "outputs": [
        {
          "name": "stdout",
          "output_type": "stream",
          "text": [
            "* * * *\n",
            "*      \n",
            "* * * *\n",
            "*      \n",
            "*      \n"
          ]
        }
      ],
      "source": [
        "#F\n",
        "for y in range(0,5):\n",
        "  if y==0 or y==2:\n",
        "    print(\"* * * *\")\n",
        "  else:\n",
        "    print(\"*      \")\n"
      ]
    },
    {
      "cell_type": "code",
      "source": [
        "#G\n",
        "for x in range(1,11):\n",
        "  if x==1:\n",
        "    print(\"    * * * *        \")\n",
        "  elif x==2:\n",
        "    print(\"  *         *      \")\n",
        "  elif x==3:\n",
        "    print(\"*             *    \")\n",
        "  elif x==4 or x==5:\n",
        "    print(\"*                  \")\n",
        "  elif x==6:\n",
        "    print(\"*       * * * * * *\")\n",
        "  elif x==7:\n",
        "    print(\"*             *   *\")\n",
        "  elif x==8:\n",
        "    print(\"*             *   *\")\n",
        "  elif x==9:\n",
        "    print(\" *         *      *\")\n",
        "  else:\n",
        "    print(\"    * * *         *\")\n"
      ],
      "metadata": {
        "id": "NzM1k5WCIbzn",
        "colab": {
          "base_uri": "https://localhost:8080/"
        },
        "outputId": "161a947c-043b-4c1f-9526-424b9bb715a2"
      },
      "execution_count": null,
      "outputs": [
        {
          "output_type": "stream",
          "name": "stdout",
          "text": [
            "    * * * *        \n",
            "  *         *      \n",
            "*             *    \n",
            "*                  \n",
            "*                  \n",
            "*       * * * * * *\n",
            "*             *   *\n",
            "*             *   *\n",
            " *         *      *\n",
            "    * * *         *\n"
          ]
        }
      ]
    },
    {
      "cell_type": "code",
      "source": [
        "#H\n",
        "for y in range(1,6):\n",
        "  if y==3:\n",
        "    print(\"* * * * *\")\n",
        "  else:\n",
        "    print(\"*       *\")"
      ],
      "metadata": {
        "colab": {
          "base_uri": "https://localhost:8080/"
        },
        "id": "AeB4FxxIReyq",
        "outputId": "82fc5568-1ce5-48ba-8631-0ed4662932e4"
      },
      "execution_count": null,
      "outputs": [
        {
          "output_type": "stream",
          "name": "stdout",
          "text": [
            "*       *\n",
            "*       *\n",
            "* * * * *\n",
            "*       *\n",
            "*       *\n"
          ]
        }
      ]
    },
    {
      "cell_type": "code",
      "source": [
        "#I\n",
        "for y in range(1,6):\n",
        "  if y==1 or y==5:\n",
        "    print(\"* * * * *\")\n",
        "  else:\n",
        "    print(\"    *    \")"
      ],
      "metadata": {
        "colab": {
          "base_uri": "https://localhost:8080/"
        },
        "id": "kGigZiwCR7ph",
        "outputId": "d9768a2a-21e6-455e-8c0a-7c471632d9dd"
      },
      "execution_count": null,
      "outputs": [
        {
          "output_type": "stream",
          "name": "stdout",
          "text": [
            "* * * * *\n",
            "    *    \n",
            "    *    \n",
            "    *    \n",
            "* * * * *\n"
          ]
        }
      ]
    },
    {
      "cell_type": "code",
      "source": [
        "#J\n",
        "for J in range(1,7):\n",
        "  if J==1:\n",
        "    print(\"* * * * * * *\")\n",
        "  elif J==5:\n",
        "    print(\"*     *      \")\n",
        "  elif J==6:\n",
        "    print(\"  * *        \")\n",
        "  else:\n",
        "    print(\"      *      \")"
      ],
      "metadata": {
        "colab": {
          "base_uri": "https://localhost:8080/"
        },
        "id": "lLbkTIw7tzb4",
        "outputId": "f609b569-77ce-4a83-b581-3b63e8f2fa8c"
      },
      "execution_count": null,
      "outputs": [
        {
          "output_type": "stream",
          "name": "stdout",
          "text": [
            "* * * * * * *\n",
            "      *      \n",
            "      *      \n",
            "      *      \n",
            "*     *      \n",
            "  * *        \n"
          ]
        }
      ]
    },
    {
      "cell_type": "code",
      "source": [
        "#K\n",
        "for K in range(1,8):\n",
        "  if K==1 or K==7:\n",
        "    print(\"*     *\")\n",
        "  elif K==2 or K==6:\n",
        "    print(\"*   *  \")\n",
        "  elif K==3 or K==5:\n",
        "    print(\"* *    \")\n",
        "  else:\n",
        "    print(\"*      \")"
      ],
      "metadata": {
        "colab": {
          "base_uri": "https://localhost:8080/"
        },
        "id": "KkKfCzgquq14",
        "outputId": "cd6ef8c8-c1ca-4a6a-85fc-0f37474f2555"
      },
      "execution_count": null,
      "outputs": [
        {
          "output_type": "stream",
          "name": "stdout",
          "text": [
            "*     *\n",
            "*   *  \n",
            "* *    \n",
            "*      \n",
            "* *    \n",
            "*   *  \n",
            "*     *\n"
          ]
        }
      ]
    },
    {
      "cell_type": "code",
      "source": [
        "#L\n",
        "for L in range(1,6):\n",
        "  if L==5:\n",
        "    print(\"* * * * *\")\n",
        "  else:\n",
        "    print(\"*        \")"
      ],
      "metadata": {
        "colab": {
          "base_uri": "https://localhost:8080/"
        },
        "id": "q33CGGoDwzYb",
        "outputId": "029abae7-3656-4f3f-8176-fa739092936b"
      },
      "execution_count": null,
      "outputs": [
        {
          "output_type": "stream",
          "name": "stdout",
          "text": [
            "*        \n",
            "*        \n",
            "*        \n",
            "*        \n",
            "* * * * *\n"
          ]
        }
      ]
    },
    {
      "cell_type": "code",
      "source": [
        "#M\n",
        "for M  in range(1,6):\n",
        "  if M==2:\n",
        "    print(\"* *   * *\")\n",
        "  elif M==3:\n",
        "    print(\"*   *   *\")\n",
        "  else:\n",
        "    print(\"*       *\")"
      ],
      "metadata": {
        "colab": {
          "base_uri": "https://localhost:8080/"
        },
        "id": "_iCJSoN5xNmt",
        "outputId": "3575c385-a35e-4907-9cce-7445f3bcc4ad"
      },
      "execution_count": null,
      "outputs": [
        {
          "output_type": "stream",
          "name": "stdout",
          "text": [
            "*       *\n",
            "* *   * *\n",
            "*   *   *\n",
            "*       *\n",
            "*       *\n"
          ]
        }
      ]
    },
    {
      "cell_type": "code",
      "source": [
        "#N\n",
        "for N in range(0,5):\n",
        "  if N==0:\n",
        "    print(\"*       *\")\n",
        "  elif N==1:\n",
        "    print(\"* *     *\")\n",
        "  elif N==2:\n",
        "    print(\"*   *   *\")\n",
        "  elif N==3:\n",
        "    print(\"*     * *\")\n",
        "  else:\n",
        "    print(\"*       *\")\n"
      ],
      "metadata": {
        "colab": {
          "base_uri": "https://localhost:8080/"
        },
        "id": "vy09bksEx5QY",
        "outputId": "298021f5-679b-4c7a-b87d-de293c7fd5f6"
      },
      "execution_count": null,
      "outputs": [
        {
          "output_type": "stream",
          "name": "stdout",
          "text": [
            "*       *\n",
            "* *     *\n",
            "*   *   *\n",
            "*     * *\n",
            "*       *\n"
          ]
        }
      ]
    },
    {
      "cell_type": "code",
      "source": [
        "#O\n",
        "for O in range(0,7):\n",
        "  if O==0 or O==6:\n",
        "    print(\"  * * * *  \")\n",
        "  else:\n",
        "    print(\"*         *\")"
      ],
      "metadata": {
        "colab": {
          "base_uri": "https://localhost:8080/"
        },
        "id": "J5na_Ki692Mv",
        "outputId": "7a3aecb8-53ea-42da-d7b4-096645312300"
      },
      "execution_count": null,
      "outputs": [
        {
          "output_type": "stream",
          "name": "stdout",
          "text": [
            "  * * * *  \n",
            "*         *\n",
            "*         *\n",
            "*         *\n",
            "*         *\n",
            "*         *\n",
            "  * * * *  \n"
          ]
        }
      ]
    },
    {
      "cell_type": "code",
      "source": [
        "#P\n",
        "for P in range(1,10):\n",
        "  if P==1 or P==5:\n",
        "    print(\"* * *  \")\n",
        "  elif P==2 or P==3 or P==4:\n",
        "    print(\"*     *\")\n",
        "  else:\n",
        "    print(\"*      \")\n"
      ],
      "metadata": {
        "colab": {
          "base_uri": "https://localhost:8080/"
        },
        "id": "VFC3urJs-lAP",
        "outputId": "354ee531-f6d1-4d80-9ad4-c0950e3577c7"
      },
      "execution_count": null,
      "outputs": [
        {
          "output_type": "stream",
          "name": "stdout",
          "text": [
            "* * *  \n",
            "*     *\n",
            "*     *\n",
            "*     *\n",
            "* * *  \n",
            "*      \n",
            "*      \n",
            "*      \n",
            "*      \n"
          ]
        }
      ]
    },
    {
      "cell_type": "code",
      "source": [
        "#Q\n",
        "for Q in range(0,6):\n",
        "  if Q==0:\n",
        "    print(\"  * * *    \")\n",
        "  elif Q==1:\n",
        "    print(\"* *     *  \")\n",
        "  elif Q==2:\n",
        "    print(\"*   *   *  \")\n",
        "  elif Q==3:\n",
        "    print(\"*     * *  \")\n",
        "  elif Q==4:\n",
        "    print(\"  * * * *  \")\n",
        "  else:\n",
        "    print(\"          *\")\n"
      ],
      "metadata": {
        "colab": {
          "base_uri": "https://localhost:8080/"
        },
        "id": "NKiY284S_TeK",
        "outputId": "216a91cf-0f6b-447a-a61e-87d4833175f3"
      },
      "execution_count": null,
      "outputs": [
        {
          "output_type": "stream",
          "name": "stdout",
          "text": [
            "  * * *    \n",
            "* *     *  \n",
            "*   *   *  \n",
            "*     * *  \n",
            "  * * * *  \n",
            "          *\n"
          ]
        }
      ]
    },
    {
      "cell_type": "code",
      "source": [
        "#R\n",
        "for R in range(1,8):\n",
        "  if R==1 or R==4:\n",
        "    print(\"* * *    \")\n",
        "  elif R==2 or R==3:\n",
        "    print(\"*     *  \")\n",
        "  elif R==5:\n",
        "    print(\"*   *    \")\n",
        "  elif R==6:\n",
        "    print(\"*     *  \")\n",
        "  else:\n",
        "    print(\"*       *\")"
      ],
      "metadata": {
        "colab": {
          "base_uri": "https://localhost:8080/"
        },
        "id": "ob7YlenwBdRs",
        "outputId": "466669b9-c718-4a93-9048-e834298bdbe5"
      },
      "execution_count": null,
      "outputs": [
        {
          "output_type": "stream",
          "name": "stdout",
          "text": [
            "* * *    \n",
            "*     *  \n",
            "*     *  \n",
            "* * *    \n",
            "*   *    \n",
            "*     *  \n",
            "*       *\n"
          ]
        }
      ]
    },
    {
      "cell_type": "code",
      "source": [
        "#S\n",
        "for S in range(1,10):\n",
        "  if S==1:\n",
        "    print(\"    * * * *\")\n",
        "  elif S==2 or S==3 or S==4:\n",
        "    print(\"  *        \")\n",
        "  elif S==6 or S==7 or S==8:\n",
        "    print(\"        *  \")\n",
        "  elif S==5:\n",
        "    print(\"    * *    \")\n",
        "  else:\n",
        "    print(\"* * * *    \")\n"
      ],
      "metadata": {
        "colab": {
          "base_uri": "https://localhost:8080/"
        },
        "id": "ZyZnQtedCaFV",
        "outputId": "136c149d-6d60-49c5-9b31-577538e3ec55"
      },
      "execution_count": null,
      "outputs": [
        {
          "output_type": "stream",
          "name": "stdout",
          "text": [
            "    * * * *\n",
            "  *        \n",
            "  *        \n",
            "  *        \n",
            "    * *    \n",
            "        *  \n",
            "        *  \n",
            "        *  \n",
            "* * * *    \n"
          ]
        }
      ]
    },
    {
      "cell_type": "code",
      "source": [
        "#T\n",
        "for x in range(1,6):\n",
        "  if x==1:\n",
        "    print(\"* * * * *\")\n",
        "  else:\n",
        "    print(\"    *    \")\n"
      ],
      "metadata": {
        "colab": {
          "base_uri": "https://localhost:8080/"
        },
        "id": "1ou4BMAXFLTj",
        "outputId": "fbceadf8-f54e-405c-8d19-1ccdaa4056b8"
      },
      "execution_count": null,
      "outputs": [
        {
          "output_type": "stream",
          "name": "stdout",
          "text": [
            "* * * * *\n",
            "    *    \n",
            "    *    \n",
            "    *    \n",
            "    *    \n"
          ]
        }
      ]
    },
    {
      "cell_type": "code",
      "source": [
        "#U\n",
        "for y in range(1,7):\n",
        "  if y==6:\n",
        "    print(\"  * * *  \")\n",
        "  else:\n",
        "    print(\"*       *\")"
      ],
      "metadata": {
        "colab": {
          "base_uri": "https://localhost:8080/"
        },
        "id": "jyFQ9xdnF3Jw",
        "outputId": "4789e4c6-2d02-485d-af35-f546032cc4d8"
      },
      "execution_count": null,
      "outputs": [
        {
          "output_type": "stream",
          "name": "stdout",
          "text": [
            "*       *\n",
            "*       *\n",
            "*       *\n",
            "*       *\n",
            "*       *\n",
            "  * * *  \n"
          ]
        }
      ]
    },
    {
      "cell_type": "code",
      "source": [
        "#V\n",
        "for V in range(1,6):\n",
        "  if V==1:\n",
        "    print(\"*               *\")\n",
        "  elif V==2:\n",
        "    print(\"  *           *  \")\n",
        "  elif V==3:\n",
        "    print(\"    *       *    \")\n",
        "  elif V==4:\n",
        "    print(\"      *   *      \")\n",
        "  else:\n",
        "    print(\"        *        \")"
      ],
      "metadata": {
        "colab": {
          "base_uri": "https://localhost:8080/"
        },
        "id": "omSeJsENGVGH",
        "outputId": "5da45dca-06c8-4e03-b84f-e0b113685de5"
      },
      "execution_count": null,
      "outputs": [
        {
          "output_type": "stream",
          "name": "stdout",
          "text": [
            "*               *\n",
            "  *           *  \n",
            "    *       *    \n",
            "      *   *      \n",
            "        *        \n"
          ]
        }
      ]
    },
    {
      "cell_type": "code",
      "source": [
        "#W\n",
        "for y in range(1,6):\n",
        "  if y==3:\n",
        "    print(\"*   *   *\")\n",
        "  elif y==4:\n",
        "    print(\"* *   * *\")\n",
        "  else:\n",
        "    print(\"*       *\")\n"
      ],
      "metadata": {
        "colab": {
          "base_uri": "https://localhost:8080/"
        },
        "id": "E9XXSekwHbzj",
        "outputId": "7c72453b-5b47-45f9-9517-b01ea871d9da"
      },
      "execution_count": null,
      "outputs": [
        {
          "output_type": "stream",
          "name": "stdout",
          "text": [
            "*       *\n",
            "*       *\n",
            "*   *   *\n",
            "* *   * *\n",
            "*       *\n"
          ]
        }
      ]
    },
    {
      "cell_type": "code",
      "source": [
        "#X\n",
        "for X in range(1,6):\n",
        "  if X==1 or X==5:\n",
        "    print(\"*       *\")\n",
        "  elif X==2 or X==4:\n",
        "    print(\"  *   *  \")\n",
        "  else:\n",
        "    print(\"    *    \")"
      ],
      "metadata": {
        "colab": {
          "base_uri": "https://localhost:8080/"
        },
        "id": "LfN9FcboQ-T0",
        "outputId": "9ee13098-11d3-48b1-e19a-d6a31b4e3604"
      },
      "execution_count": null,
      "outputs": [
        {
          "output_type": "stream",
          "name": "stdout",
          "text": [
            "*       *\n",
            "  *   *  \n",
            "    *    \n",
            "  *   *  \n",
            "*       *\n"
          ]
        }
      ]
    },
    {
      "cell_type": "code",
      "source": [
        "#Y\n",
        "for Y in range(1,6):\n",
        "  if Y==1:\n",
        "    print(\"*       *\")\n",
        "  elif Y==2:\n",
        "    print(\"  *   *  \")\n",
        "  elif Y==3:\n",
        "    print(\"    *    \")\n",
        "  elif Y==4:\n",
        "    print(\"  *      \")\n",
        "  else:\n",
        "    print(\"*        \")"
      ],
      "metadata": {
        "colab": {
          "base_uri": "https://localhost:8080/"
        },
        "id": "85iwTOgZRZCH",
        "outputId": "34a504e7-a4e3-4a65-fca3-20c343b054b0"
      },
      "execution_count": null,
      "outputs": [
        {
          "output_type": "stream",
          "name": "stdout",
          "text": [
            "*       *\n",
            "  *   *  \n",
            "    *    \n",
            "  *      \n",
            "*        \n"
          ]
        }
      ]
    },
    {
      "cell_type": "code",
      "source": [
        "#Z\n",
        "for a in range(0,4):\n",
        "  if a==0:\n",
        "    print(\"* * * *\")\n",
        "  elif a==1:\n",
        "    print(\"    *  \")\n",
        "  elif a==2:\n",
        "    print(\"  *    \")\n",
        "  else:\n",
        "    print(\"* * * *\")"
      ],
      "metadata": {
        "colab": {
          "base_uri": "https://localhost:8080/"
        },
        "id": "1JF2KQz6SOwO",
        "outputId": "bba4fded-1803-4abd-aabc-a710b1b59ad5"
      },
      "execution_count": null,
      "outputs": [
        {
          "output_type": "stream",
          "name": "stdout",
          "text": [
            "* * * *\n",
            "    *  \n",
            "  *    \n",
            "* * * *\n"
          ]
        }
      ]
    },
    {
      "cell_type": "code",
      "source": [
        "#2. Create python programs to print lowercase English alphabets(a-z) using the while loop statement"
      ],
      "metadata": {
        "id": "v-5FM2XicT-_"
      },
      "execution_count": null,
      "outputs": []
    },
    {
      "cell_type": "code",
      "execution_count": null,
      "metadata": {
        "colab": {
          "background_save": true,
          "base_uri": "https://localhost:8080/"
        },
        "id": "P_7Obgqd3gLa",
        "outputId": "e7422106-399f-4140-e237-cdb79dee47fc"
      },
      "outputs": [
        {
          "name": "stdout",
          "output_type": "stream",
          "text": [
            "  * * *      \n",
            "        *    \n",
            "        *    \n",
            "    * * *    \n",
            "  *     *    \n",
            "  *     *    \n",
            "    * * * *  \n"
          ]
        }
      ],
      "source": [
        "#a\n",
        "y=1\n",
        "while y<=7:\n",
        "  if y==1:\n",
        "    print(\"  * * *      \")\n",
        "  elif y==2:\n",
        "    print(\"        *    \")\n",
        "  elif y==3:\n",
        "    print(\"        *    \")\n",
        "  elif y==4:\n",
        "    print(\"    * * *    \")\n",
        "  elif y==5:\n",
        "    print(\"  *     *    \")\n",
        "  elif y==6:\n",
        "    print(\"  *     *    \")\n",
        "  else:\n",
        "    print(\"    * * * *  \")\n",
        "  y=y+1\n",
        "\n"
      ]
    },
    {
      "cell_type": "code",
      "execution_count": null,
      "metadata": {
        "colab": {
          "base_uri": "https://localhost:8080/"
        },
        "id": "Oiu-GBWDCntP",
        "outputId": "048898c5-77ba-4b6b-9ba6-3a092f61de5c"
      },
      "outputs": [
        {
          "name": "stdout",
          "output_type": "stream",
          "text": [
            "*      \n",
            "*      \n",
            "*      \n",
            "* *    \n",
            "*   *  \n",
            "*     *\n",
            "*     *\n",
            "*   *  \n",
            "* *    \n"
          ]
        }
      ],
      "source": [
        "#b\n",
        "y=1\n",
        "while y<=9:\n",
        "  if y==1 or y==2 or y==3:\n",
        "    print(\"*      \")\n",
        "  elif y==4 or y==9:\n",
        "    print(\"* *    \")\n",
        "  elif y==5 or y==8:\n",
        "    print(\"*   *  \")\n",
        "  else:\n",
        "    print(\"*     *\")\n",
        "  y=y+1"
      ]
    },
    {
      "cell_type": "code",
      "execution_count": null,
      "metadata": {
        "colab": {
          "base_uri": "https://localhost:8080/"
        },
        "id": "ePVcRNCTECek",
        "outputId": "b45b666b-96ce-4cba-f183-7ee1da8e788b"
      },
      "outputs": [
        {
          "name": "stdout",
          "output_type": "stream",
          "text": [
            "    * * *\n",
            "  *      \n",
            "  *      \n",
            "  *      \n",
            "    * * *\n"
          ]
        }
      ],
      "source": [
        "#c\n",
        "y=1\n",
        "while y<=5:\n",
        "  if y==1 or y==5:\n",
        "    print(\"    * * *\")\n",
        "  elif y==2 or y==4:\n",
        "    print(\"  *      \")\n",
        "  else:\n",
        "    print(\"  *      \")\n",
        "  y=y+1"
      ]
    },
    {
      "cell_type": "code",
      "execution_count": null,
      "metadata": {
        "colab": {
          "base_uri": "https://localhost:8080/"
        },
        "id": "OipSDMBDGAqt",
        "outputId": "cb956586-d956-4af7-87ea-a6bf99f96dc9"
      },
      "outputs": [
        {
          "name": "stdout",
          "output_type": "stream",
          "text": [
            "    *\n",
            "    *\n",
            "    *\n",
            "  * *\n",
            "*   *\n",
            "*   *\n",
            "  * *\n"
          ]
        }
      ],
      "source": [
        "#d\n",
        "y=0\n",
        "while y<=6:\n",
        "  if y==0 or y==1 or y==2:\n",
        "    print(\"    *\")\n",
        "  elif  y==3 or y==6:\n",
        "    print(\"  * *\")\n",
        "  else:\n",
        "    print(\"*   *\")\n",
        "  y=y+1"
      ]
    },
    {
      "cell_type": "code",
      "execution_count": null,
      "metadata": {
        "colab": {
          "base_uri": "https://localhost:8080/"
        },
        "id": "Eu6idD7p_fzB",
        "outputId": "dcbd1de7-8709-4c09-ccb4-5e5eeb87eb20"
      },
      "outputs": [
        {
          "name": "stdout",
          "output_type": "stream",
          "text": [
            "  * *  \n",
            "*     *\n",
            "* * * *\n",
            "*      \n",
            "*      \n",
            "*     *\n",
            "  * *  \n"
          ]
        }
      ],
      "source": [
        "#e\n",
        "y=1\n",
        "while y<=7:\n",
        "  if y==1 or y==7:\n",
        "    print(\"  * *  \")\n",
        "  elif y==2 or y==6:\n",
        "    print(\"*     *\")\n",
        "  elif y==3:\n",
        "    print(\"* * * *\")\n",
        "  else:\n",
        "    print(\"*      \")\n",
        "  y=y+1\n",
        "\n"
      ]
    },
    {
      "cell_type": "code",
      "execution_count": null,
      "metadata": {
        "colab": {
          "base_uri": "https://localhost:8080/"
        },
        "id": "6pnKlTGdBrlA",
        "outputId": "998b1b56-ef04-4588-9653-520bac1e877c"
      },
      "outputs": [
        {
          "name": "stdout",
          "output_type": "stream",
          "text": [
            "      *    \n",
            "    *   *  \n",
            "    *      \n",
            "    *      \n",
            "* * * * *  \n",
            "    *      \n",
            "    *      \n",
            "    *      \n"
          ]
        }
      ],
      "source": [
        "#f\n",
        "y=1\n",
        "while y<=8:\n",
        "  if y==1:\n",
        "    print(\"      *    \")\n",
        "  elif y==2:\n",
        "    print(\"    *   *  \")\n",
        "  elif y==5:\n",
        "    print(\"* * * * *  \")\n",
        "  else:\n",
        "    print(\"    *      \")\n",
        "  y=y+1"
      ]
    },
    {
      "cell_type": "code",
      "execution_count": null,
      "metadata": {
        "id": "davqj1C5C2cy",
        "colab": {
          "base_uri": "https://localhost:8080/"
        },
        "outputId": "5ac60788-720e-4345-ee08-14238fefe2a2"
      },
      "outputs": [
        {
          "output_type": "stream",
          "name": "stdout",
          "text": [
            "  * *  \n",
            "*     *\n",
            "*     *\n",
            "  * * *\n",
            "      *\n",
            "      *\n",
            "*     *\n",
            "*     *\n",
            "  * * *\n"
          ]
        }
      ],
      "source": [
        "#g\n",
        "y=0\n",
        "while y<=8:\n",
        "  if y==0:\n",
        "    print(\"  * *  \")\n",
        "  elif y==1 or y==2 or y==6 or y==7:\n",
        "    print(\"*     *\")\n",
        "  elif y==3 or y==8:\n",
        "    print(\"  * * *\")\n",
        "  elif y==4:\n",
        "    print(\"      *\")\n",
        "  else:\n",
        "    print(\"      *\")\n",
        "  y=y+1\n",
        "\n"
      ]
    },
    {
      "cell_type": "code",
      "source": [
        "#h\n",
        "x=1\n",
        "while x<=5:\n",
        "  if x==3:\n",
        "    print(\"* * *\")\n",
        "  elif x==4 or x==5:\n",
        "    print(\"*   *\")\n",
        "  else:\n",
        "    print(\"*    \")\n",
        "  x=x+1"
      ],
      "metadata": {
        "colab": {
          "base_uri": "https://localhost:8080/"
        },
        "id": "mogyGOHbQG67",
        "outputId": "171662f7-35ec-4b5d-cd34-1c10f67022d4"
      },
      "execution_count": null,
      "outputs": [
        {
          "output_type": "stream",
          "name": "stdout",
          "text": [
            "*    \n",
            "*    \n",
            "* * *\n",
            "*   *\n",
            "*   *\n"
          ]
        }
      ]
    },
    {
      "cell_type": "code",
      "source": [
        "#i\n",
        "i=0\n",
        "while i<=12:\n",
        "  if i==0 or i==3:\n",
        "    print(\"  * *  \")\n",
        "  elif i==4 or i==5:\n",
        "    print(\"       \")\n",
        "  elif i==1 or i==2 or i==6 or i==12:\n",
        "    print(\"* * * *\")\n",
        "  else:\n",
        "    print(\"*     *\")\n",
        "  i=i+1"
      ],
      "metadata": {
        "colab": {
          "base_uri": "https://localhost:8080/"
        },
        "id": "ZMUrIvjDSk9Y",
        "outputId": "6fb21612-13fb-465c-bfd6-85ff8bdf50aa"
      },
      "execution_count": null,
      "outputs": [
        {
          "output_type": "stream",
          "name": "stdout",
          "text": [
            "  * *  \n",
            "* * * *\n",
            "* * * *\n",
            "  * *  \n",
            "       \n",
            "       \n",
            "* * * *\n",
            "*     *\n",
            "*     *\n",
            "*     *\n",
            "*     *\n",
            "*     *\n",
            "* * * *\n"
          ]
        }
      ]
    },
    {
      "cell_type": "code",
      "source": [
        "#j\n",
        "j=1\n",
        "while j<=14:\n",
        "  if j==2 or j==3:\n",
        "    print(\"    * * *\")\n",
        "  elif j==5:\n",
        "    print(\"         \")\n",
        "  elif j==12 or j==13:\n",
        "    print(\"*     *  \")\n",
        "  elif j==14:\n",
        "    print(\"  * *    \")\n",
        "  else:\n",
        "    print(\"      *  \")\n",
        "  j=j+1"
      ],
      "metadata": {
        "id": "fEXvhgKYTGtz",
        "colab": {
          "base_uri": "https://localhost:8080/"
        },
        "outputId": "da95f68e-50e9-4da4-f397-9116998eae23"
      },
      "execution_count": null,
      "outputs": [
        {
          "output_type": "stream",
          "name": "stdout",
          "text": [
            "      *  \n",
            "    * * *\n",
            "    * * *\n",
            "      *  \n",
            "         \n",
            "      *  \n",
            "      *  \n",
            "      *  \n",
            "      *  \n",
            "      *  \n",
            "      *  \n",
            "*     *  \n",
            "*     *  \n",
            "  * *    \n"
          ]
        }
      ]
    },
    {
      "cell_type": "code",
      "source": [
        "#k\n",
        "k=0\n",
        "while k<=7:\n",
        "  if k==3 or k==5:\n",
        "    print(\"*   *    \")\n",
        "  elif k==2:\n",
        "    print(\"*      * \")\n",
        "  elif k==4:\n",
        "    print(\"* *      \")\n",
        "  elif k==6:\n",
        "    print(\"*     *  \")\n",
        "  elif k==7:\n",
        "    print(\"*       *\")\n",
        "  else:\n",
        "    print(\"*        \")\n",
        "  k+=1"
      ],
      "metadata": {
        "colab": {
          "base_uri": "https://localhost:8080/"
        },
        "id": "EUxSajkMzp4B",
        "outputId": "38c51b2a-e69f-4236-d637-3185a4521358"
      },
      "execution_count": null,
      "outputs": [
        {
          "output_type": "stream",
          "name": "stdout",
          "text": [
            "*        \n",
            "*        \n",
            "*      * \n",
            "*   *    \n",
            "* *      \n",
            "*   *    \n",
            "*     *  \n",
            "*       *\n"
          ]
        }
      ]
    },
    {
      "cell_type": "code",
      "source": [
        "#l\n",
        "l=1\n",
        "while l<=5:\n",
        "  print(\"  *  \")\n",
        "  l=l+1"
      ],
      "metadata": {
        "colab": {
          "base_uri": "https://localhost:8080/"
        },
        "id": "QbWxi6Bn4Qbj",
        "outputId": "81c840f4-91f4-48b4-fcb3-ff39a77ac21f"
      },
      "execution_count": null,
      "outputs": [
        {
          "output_type": "stream",
          "name": "stdout",
          "text": [
            "  *  \n",
            "  *  \n",
            "  *  \n",
            "  *  \n",
            "  *  \n"
          ]
        }
      ]
    },
    {
      "cell_type": "code",
      "source": [
        "#m\n",
        "m=1\n",
        "while m<=6:\n",
        "  if m==1:\n",
        "    print(\"  * *   * *  \")\n",
        "  elif m==2 or m==3:\n",
        "    print(\"*     *     *\")\n",
        "  else:\n",
        "    print(\"*           *\")\n",
        "  m=m+1"
      ],
      "metadata": {
        "colab": {
          "base_uri": "https://localhost:8080/"
        },
        "id": "8z4nddxm46dv",
        "outputId": "dba64a6a-12bc-427d-87e2-d2c8c6d0678f"
      },
      "execution_count": null,
      "outputs": [
        {
          "output_type": "stream",
          "name": "stdout",
          "text": [
            "  * *   * *  \n",
            "*     *     *\n",
            "*     *     *\n",
            "*           *\n",
            "*           *\n",
            "*           *\n"
          ]
        }
      ]
    },
    {
      "cell_type": "code",
      "source": [
        "#n\n",
        "n=1\n",
        "while n<=5:\n",
        "  if n==1:\n",
        "    print(\"* * *  \")\n",
        "  else:\n",
        "    print(\"*     *\")\n",
        "  n=n+1"
      ],
      "metadata": {
        "colab": {
          "base_uri": "https://localhost:8080/"
        },
        "id": "c28MMtY65foJ",
        "outputId": "a6f4632e-2f64-4192-fc9c-3d95bb230189"
      },
      "execution_count": null,
      "outputs": [
        {
          "output_type": "stream",
          "name": "stdout",
          "text": [
            "* * *  \n",
            "*     *\n",
            "*     *\n",
            "*     *\n",
            "*     *\n"
          ]
        }
      ]
    },
    {
      "cell_type": "code",
      "source": [
        "#o\n",
        "x=1\n",
        "while x<=5:\n",
        "  if x==1:\n",
        "    print(\"  * * *     *\")\n",
        "  elif x==2:\n",
        "    print(\"*       * *  \")\n",
        "  elif x==3:\n",
        "    print(\"* * * * *    \")\n",
        "  elif x==4:\n",
        "    print(\"*       *    \")\n",
        "  else:\n",
        "    print(\"  * * *      \")\n",
        "  x=x+1"
      ],
      "metadata": {
        "colab": {
          "base_uri": "https://localhost:8080/"
        },
        "id": "stng_6c2K01s",
        "outputId": "fff229b0-ec7d-4db2-e4f6-6ee0bc63e6ce"
      },
      "execution_count": null,
      "outputs": [
        {
          "output_type": "stream",
          "name": "stdout",
          "text": [
            "  * * *     *\n",
            "*       * *  \n",
            "* * * * *    \n",
            "*       *    \n",
            "  * * *      \n"
          ]
        }
      ]
    },
    {
      "cell_type": "code",
      "source": [
        "#p\n",
        "x=1\n",
        "while x<=8:\n",
        "  if x==1:\n",
        "    print(\"  * * *  \")\n",
        "  elif x==2:\n",
        "    print(\"    *   *\")\n",
        "  elif x==3:\n",
        "    print(\"    *   *\")\n",
        "  elif x==4:\n",
        "    print(\"    * *  \")\n",
        "  elif x==8:\n",
        "    print(\"  *      \")\n",
        "  else:\n",
        "    print(\"    *    \")\n",
        "  x+=1"
      ],
      "metadata": {
        "colab": {
          "base_uri": "https://localhost:8080/"
        },
        "id": "9BboG7VcMYvl",
        "outputId": "ce156269-cdd4-4c2c-da40-bf2e1fe0de14"
      },
      "execution_count": null,
      "outputs": [
        {
          "output_type": "stream",
          "name": "stdout",
          "text": [
            "  * * *  \n",
            "    *   *\n",
            "    *   *\n",
            "    * *  \n",
            "    *    \n",
            "    *    \n",
            "    *    \n",
            "  *      \n"
          ]
        }
      ]
    },
    {
      "cell_type": "code",
      "source": [
        "#q\n",
        "y=1\n",
        "while y<=8:\n",
        "  if y==1:\n",
        "    print(\"  * *      \")\n",
        "  elif y==2 or y==3:\n",
        "    print(\"*     *    \")\n",
        "  elif y==4:\n",
        "    print(\"  * * *    \")\n",
        "  elif y==6:\n",
        "    print(\"      *   *\")\n",
        "  elif y==7:\n",
        "    print(\"      * *  \")\n",
        "  else:\n",
        "    print(\"      *    \")\n",
        "  y=y+1"
      ],
      "metadata": {
        "colab": {
          "base_uri": "https://localhost:8080/"
        },
        "id": "_6hJZgaEOCAo",
        "outputId": "276b4f7a-f2e2-43f6-cf68-8af0325dee12"
      },
      "execution_count": null,
      "outputs": [
        {
          "output_type": "stream",
          "name": "stdout",
          "text": [
            "  * *      \n",
            "*     *    \n",
            "*     *    \n",
            "  * * *    \n",
            "      *    \n",
            "      *   *\n",
            "      * *  \n",
            "      *    \n"
          ]
        }
      ]
    },
    {
      "cell_type": "code",
      "source": [
        "#r\n",
        "x=1\n",
        "while x<=7:\n",
        "  if x==1:\n",
        "    print(\"*           *\")\n",
        "  elif x==2:\n",
        "    print(\"  *       *  \")\n",
        "  elif x==4 or x==7:\n",
        "    print(\"      *      \")\n",
        "  else:\n",
        "    print(\"    *   *    \")\n",
        "  x=x+1"
      ],
      "metadata": {
        "colab": {
          "base_uri": "https://localhost:8080/"
        },
        "id": "G5-BHyhkPP0S",
        "outputId": "ec09567d-2c4d-4c6c-d22a-03cb6e178f3e"
      },
      "execution_count": null,
      "outputs": [
        {
          "output_type": "stream",
          "name": "stdout",
          "text": [
            "*           *\n",
            "  *       *  \n",
            "    *   *    \n",
            "      *      \n",
            "    *   *    \n",
            "    *   *    \n",
            "      *      \n"
          ]
        }
      ]
    },
    {
      "cell_type": "code",
      "source": [
        "#s\n",
        "x=1\n",
        "while x<=9:\n",
        "  if x==1:\n",
        "    print(\"      * * *    \")\n",
        "  elif x==2:\n",
        "    print(\"      *   *    \")\n",
        "  elif x==3:\n",
        "    print(\"      *   *    \")\n",
        "  elif x==4:\n",
        "    print(\"        * *    \")\n",
        "  elif x==5:\n",
        "    print(\"        * *    \")\n",
        "  elif x==6:\n",
        "    print(\"      *     *  \")\n",
        "  elif x==7:\n",
        "    print(\"    *         *\")\n",
        "  elif x==8:\n",
        "    print(\"  *   *       *\")\n",
        "  else:\n",
        "    print(\"*       * * *  \")\n",
        "  x=x+1"
      ],
      "metadata": {
        "id": "bXKS45xARWpO",
        "colab": {
          "base_uri": "https://localhost:8080/"
        },
        "outputId": "70548d14-fc69-42d4-babf-d1451cc2517e"
      },
      "execution_count": null,
      "outputs": [
        {
          "output_type": "stream",
          "name": "stdout",
          "text": [
            "      * * *    \n",
            "      *   *    \n",
            "      *   *    \n",
            "        * *    \n",
            "        * *    \n",
            "      *     *  \n",
            "    *         *\n",
            "  *   *       *\n",
            "*       * * *  \n"
          ]
        }
      ]
    },
    {
      "cell_type": "code",
      "source": [
        "#t\n",
        "y=1\n",
        "while y<=6:\n",
        "  if y==3:\n",
        "    print(\"* * * * *\")\n",
        "  elif y==6:\n",
        "    print(\"      * *\")\n",
        "  else:\n",
        "    print(\"    *    \")\n",
        "  y=y+1"
      ],
      "metadata": {
        "colab": {
          "base_uri": "https://localhost:8080/"
        },
        "id": "-1Ogd2RvMQqn",
        "outputId": "a8e4c042-76f0-409e-e281-1d1c9ac920b1"
      },
      "execution_count": null,
      "outputs": [
        {
          "output_type": "stream",
          "name": "stdout",
          "text": [
            "    *    \n",
            "    *    \n",
            "* * * * *\n",
            "    *    \n",
            "    *    \n",
            "      * *\n"
          ]
        }
      ]
    },
    {
      "cell_type": "code",
      "source": [
        "#u\n",
        "y=0\n",
        "while y<=4:\n",
        "  if y==3:\n",
        "    print(\"*     *      \")\n",
        "  elif y==4:\n",
        "    print(\"  * * * *    \")\n",
        "  else:\n",
        "    print(\"*     *      \")\n",
        "  y=y+1"
      ],
      "metadata": {
        "colab": {
          "base_uri": "https://localhost:8080/"
        },
        "id": "k1OZYMBSM_g9",
        "outputId": "2b66d41e-e16f-4c4c-924d-69c36f4e1c4e"
      },
      "execution_count": null,
      "outputs": [
        {
          "output_type": "stream",
          "name": "stdout",
          "text": [
            "*     *      \n",
            "*     *      \n",
            "*     *      \n",
            "*     *      \n",
            "  * * * *    \n"
          ]
        }
      ]
    },
    {
      "cell_type": "code",
      "source": [
        "#v\n",
        "x=1\n",
        "while x<=5:\n",
        "  if x==1:\n",
        "    print(\"  * *               * *\")\n",
        "  elif x==2:\n",
        "    print(\"*     *           *    \")\n",
        "  elif x==3:\n",
        "    print(\"        *       *      \")\n",
        "  elif x==4:\n",
        "    print(\"          *   *        \")\n",
        "  else:\n",
        "    print(\"            *          \")\n",
        "  x=x+1"
      ],
      "metadata": {
        "colab": {
          "base_uri": "https://localhost:8080/"
        },
        "id": "oRz1df3eN4eV",
        "outputId": "5060a016-57de-4ea8-9f73-23f58160d743"
      },
      "execution_count": null,
      "outputs": [
        {
          "output_type": "stream",
          "name": "stdout",
          "text": [
            "  * *               * *\n",
            "*     *           *    \n",
            "        *       *      \n",
            "          *   *        \n",
            "            *          \n"
          ]
        }
      ]
    },
    {
      "cell_type": "code",
      "source": [
        "#w\n",
        "x=0\n",
        "while x<=4:\n",
        "  if x==0 or x==1:\n",
        "    print(\"*           *\")\n",
        "  elif x==2 or x==3:\n",
        "    print(\"*     *     *\")\n",
        "  else:\n",
        "    print(\"  * *   * *  \")\n",
        "  x=x+1"
      ],
      "metadata": {
        "colab": {
          "base_uri": "https://localhost:8080/"
        },
        "id": "WcAkt9cK8FqF",
        "outputId": "d81a1da7-772e-4546-fdb8-0d0a993ae3ac"
      },
      "execution_count": null,
      "outputs": [
        {
          "output_type": "stream",
          "name": "stdout",
          "text": [
            "*           *\n",
            "*           *\n",
            "*     *     *\n",
            "*     *     *\n",
            "  * *   * *  \n"
          ]
        }
      ]
    },
    {
      "cell_type": "code",
      "source": [
        "#x\n",
        "x=1\n",
        "while x<=6:\n",
        "  if x==1 or x==6:\n",
        "    print(\"* *       * *\")\n",
        "  elif x==2 or x==5:\n",
        "    print(\"    *   *    \")\n",
        "  else:\n",
        "    print(\"      *      \")\n",
        "  x=x+1"
      ],
      "metadata": {
        "id": "MmASGAUcKINM",
        "colab": {
          "base_uri": "https://localhost:8080/"
        },
        "outputId": "a331f80d-3d60-4ad4-e7e0-273536c4bdc9"
      },
      "execution_count": null,
      "outputs": [
        {
          "output_type": "stream",
          "name": "stdout",
          "text": [
            "* *       * *\n",
            "    *   *    \n",
            "      *      \n",
            "      *      \n",
            "    *   *    \n",
            "* *       * *\n"
          ]
        }
      ]
    },
    {
      "cell_type": "code",
      "source": [
        "#y\n",
        "y=0\n",
        "while y<=7:\n",
        "  if y==2 or y==7:\n",
        "    print(\"  * * *\")\n",
        "  elif y==3 or y==4:\n",
        "    print(\"      *\")\n",
        "  else:\n",
        "    print(\"*     *\")\n",
        "  y=y+1"
      ],
      "metadata": {
        "colab": {
          "base_uri": "https://localhost:8080/"
        },
        "id": "vLNMVv0rT9Ld",
        "outputId": "49a32cbd-fb9b-4e21-9a58-d6eeef06c8fb"
      },
      "execution_count": null,
      "outputs": [
        {
          "output_type": "stream",
          "name": "stdout",
          "text": [
            "*     *\n",
            "*     *\n",
            "  * * *\n",
            "      *\n",
            "      *\n",
            "*     *\n",
            "*     *\n",
            "  * * *\n"
          ]
        }
      ]
    },
    {
      "cell_type": "code",
      "source": [
        "#z\n",
        "z=1\n",
        "while z<13:\n",
        "  if z==1:\n",
        "    print(\"* * * * * *\")\n",
        "  elif z==2:\n",
        "    print(\"        *  \")\n",
        "  elif z==3:\n",
        "    print(\"      *    \")\n",
        "  elif z==4:\n",
        "    print(\"    *      \")\n",
        "  elif z==5:\n",
        "    print(\"      *    \")\n",
        "  elif z==6:\n",
        "    print(\"        * *\")\n",
        "  elif z==7:\n",
        "    print(\"      * *  \")\n",
        "  elif z==8:\n",
        "    print(\"    *   *  \")\n",
        "  elif z==9 or z==10 or z==11:\n",
        "    print(\"  *     *  \")\n",
        "  else:\n",
        "    print(\"    * *    \")\n",
        "  z=z+1"
      ],
      "metadata": {
        "id": "2bZxI5q5UXyk",
        "colab": {
          "base_uri": "https://localhost:8080/"
        },
        "outputId": "5f826b14-d0e4-4ec9-dac8-155450afc097"
      },
      "execution_count": 56,
      "outputs": [
        {
          "output_type": "stream",
          "name": "stdout",
          "text": [
            "* * * * * *\n",
            "        *  \n",
            "      *    \n",
            "    *      \n",
            "      *    \n",
            "        * *\n",
            "      * *  \n",
            "    *   *  \n",
            "  *     *  \n",
            "  *     *  \n",
            "  *     *  \n",
            "    * *    \n"
          ]
        }
      ]
    },
    {
      "cell_type": "code",
      "source": [],
      "metadata": {
        "id": "FuNnnZCVZiMr"
      },
      "execution_count": null,
      "outputs": []
    }
  ],
  "metadata": {
    "colab": {
      "provenance": [],
      "authorship_tag": "ABX9TyOSf/JTT+Kzr+fTaLl7xbAP",
      "include_colab_link": true
    },
    "kernelspec": {
      "display_name": "Python 3",
      "name": "python3"
    },
    "language_info": {
      "name": "python"
    }
  },
  "nbformat": 4,
  "nbformat_minor": 0
}