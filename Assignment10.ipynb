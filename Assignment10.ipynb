{
  "nbformat": 4,
  "nbformat_minor": 0,
  "metadata": {
    "colab": {
      "provenance": [],
      "authorship_tag": "ABX9TyNMSel+cZm/1CHaxd6of5LK",
      "include_colab_link": true
    },
    "kernelspec": {
      "name": "python3",
      "display_name": "Python 3"
    },
    "language_info": {
      "name": "python"
    }
  },
  "cells": [
    {
      "cell_type": "markdown",
      "metadata": {
        "id": "view-in-github",
        "colab_type": "text"
      },
      "source": [
        "<a href=\"https://colab.research.google.com/github/HMalli1205/CodingSessions/blob/main/Assignment10.ipynb\" target=\"_parent\"><img src=\"https://colab.research.google.com/assets/colab-badge.svg\" alt=\"Open In Colab\"/></a>"
      ]
    },
    {
      "cell_type": "code",
      "source": [
        "#1.Define a function which will return the maximum of three numbers.\n",
        "def max():\n",
        "  num_list=[]\n",
        "  y=1\n",
        "  n=3\n",
        "  while y<=n:\n",
        "    elmt=int(input(\"Enter a number: \"))\n",
        "    num_list.append(elmt)\n",
        "    y=y+1\n",
        "  num_list.sort()\n",
        "  print(\"Maximum of the three numbers: \",num_list[-1])"
      ],
      "metadata": {
        "id": "idFfmiPuHWQS"
      },
      "execution_count": null,
      "outputs": []
    },
    {
      "cell_type": "code",
      "source": [
        "max()"
      ],
      "metadata": {
        "colab": {
          "base_uri": "https://localhost:8080/"
        },
        "id": "pAw_gj2zIs50",
        "outputId": "fa60b3c9-55dc-4bbf-9d9a-6983ed50bce3"
      },
      "execution_count": null,
      "outputs": [
        {
          "output_type": "stream",
          "name": "stdout",
          "text": [
            "Enter the number of values you want in the list: 3\n",
            "Enter a number: 3\n",
            "Enter a number: 9\n",
            "Enter a number: 8\n",
            "Maximum of the three numbers:  9\n"
          ]
        }
      ]
    },
    {
      "cell_type": "code",
      "source": [
        "#2.Define a python function to reverse a string.\n",
        "def rev(string):     #defining/creating the fucntion\n",
        "  rev_string=''\n",
        "  y=-1\n",
        "  while y>=int(-len(str(string))):\n",
        "    rev_string=rev_string+string[y]\n",
        "    y=y-1\n",
        "  return rev_string  #using print(), the function is executed and output is displayed but is not stored.Thus, use return statement"
      ],
      "metadata": {
        "id": "pAsWAaxkJD6_"
      },
      "execution_count": null,
      "outputs": []
    },
    {
      "cell_type": "code",
      "source": [
        "new_str=rev('salaar')  #calling/revoking the function\n",
        "print(new_str)"
      ],
      "metadata": {
        "colab": {
          "base_uri": "https://localhost:8080/"
        },
        "id": "yjbgfLa-NPhy",
        "outputId": "9ad8cc0a-6a19-457c-e211-46a685808afa"
      },
      "execution_count": null,
      "outputs": [
        {
          "output_type": "stream",
          "name": "stdout",
          "text": [
            "raalas\n"
          ]
        }
      ]
    },
    {
      "cell_type": "code",
      "source": [
        "#3.Write a Python program to define a function that accepts 2 values\n",
        "#and return its sum, subtraction and multiplication.\n",
        "\n",
        "def aop(num1,num2):\n",
        "  print(\"Solutions of the given numbers using given arithemetic operations are: \")\n",
        "  yield num1+num2\n",
        "  yield num1-num2\n",
        "  yield num1*num2     #looping through the generator object using next keyword"
      ],
      "metadata": {
        "id": "EmVgVOrpLqRJ"
      },
      "execution_count": null,
      "outputs": []
    },
    {
      "cell_type": "code",
      "source": [
        "sols=aop(10,20)"
      ],
      "metadata": {
        "id": "AREK-r8lNrRJ"
      },
      "execution_count": null,
      "outputs": []
    },
    {
      "cell_type": "code",
      "source": [
        "sols"
      ],
      "metadata": {
        "colab": {
          "base_uri": "https://localhost:8080/"
        },
        "id": "PcmOhR2yNsj-",
        "outputId": "abcf6e86-439b-42c6-e909-ae9d22c0d834"
      },
      "execution_count": null,
      "outputs": [
        {
          "output_type": "execute_result",
          "data": {
            "text/plain": [
              "<generator object aop at 0x7fe812c98040>"
            ]
          },
          "metadata": {},
          "execution_count": 62
        }
      ]
    },
    {
      "cell_type": "code",
      "source": [
        "next(sols)"
      ],
      "metadata": {
        "colab": {
          "base_uri": "https://localhost:8080/"
        },
        "id": "y0GZHLPUOHoA",
        "outputId": "fc4aeb1f-fc8b-46b6-bbec-af5e5f367869"
      },
      "execution_count": null,
      "outputs": [
        {
          "output_type": "stream",
          "name": "stdout",
          "text": [
            "Solutions of the given numbers using given arithemetic operations are: \n"
          ]
        },
        {
          "output_type": "execute_result",
          "data": {
            "text/plain": [
              "30"
            ]
          },
          "metadata": {},
          "execution_count": 63
        }
      ]
    },
    {
      "cell_type": "code",
      "source": [
        "next(sols)"
      ],
      "metadata": {
        "colab": {
          "base_uri": "https://localhost:8080/"
        },
        "id": "payJE0R1OKAv",
        "outputId": "ce500272-821e-48d8-8d47-444caa395a6a"
      },
      "execution_count": null,
      "outputs": [
        {
          "output_type": "execute_result",
          "data": {
            "text/plain": [
              "-10"
            ]
          },
          "metadata": {},
          "execution_count": 64
        }
      ]
    },
    {
      "cell_type": "code",
      "source": [
        "next(sols)"
      ],
      "metadata": {
        "colab": {
          "base_uri": "https://localhost:8080/"
        },
        "id": "9rhfN5LLOLvw",
        "outputId": "3bcd839a-590c-449b-92b4-84b966dd592d"
      },
      "execution_count": null,
      "outputs": [
        {
          "output_type": "execute_result",
          "data": {
            "text/plain": [
              "200"
            ]
          },
          "metadata": {},
          "execution_count": 65
        }
      ]
    },
    {
      "cell_type": "code",
      "source": [
        " #or\n",
        "for sols in aop(12,34):   #using for loop to loop through the generator object\n",
        "  print(sols)"
      ],
      "metadata": {
        "colab": {
          "base_uri": "https://localhost:8080/"
        },
        "id": "LFcU0crpPZwT",
        "outputId": "d506e7a4-c9fe-4836-8d9d-b129d7c26b48"
      },
      "execution_count": null,
      "outputs": [
        {
          "output_type": "stream",
          "name": "stdout",
          "text": [
            "Solutions of the given numbers using given arithemetic operations are: \n",
            "46\n",
            "-22\n",
            "408\n"
          ]
        }
      ]
    },
    {
      "cell_type": "code",
      "source": [
        "#4.Define a function that accepts roll number and returns\n",
        "#whether the student is present or absent.\n",
        "stu_reg=range(1,51)\n",
        "def attendance(rollno):\n",
        "  if rollno in stu_reg:\n",
        "    ans=input(\"Student answering : \")\n",
        "    if ans=='Present' or ans=='Yes':\n",
        "      return 'Student with roll.no.{} is present'.format(rollno)\n",
        "    else:\n",
        "      return 'Student with roll.no.{} is absent'.format(rollno)\n",
        "  else:\n",
        "    return 'Student name not in register'"
      ],
      "metadata": {
        "id": "BUQMzzocTu1_"
      },
      "execution_count": null,
      "outputs": []
    },
    {
      "cell_type": "code",
      "source": [
        "attendance(45)"
      ],
      "metadata": {
        "colab": {
          "base_uri": "https://localhost:8080/",
          "height": 53
        },
        "id": "io3SN3TjU3O1",
        "outputId": "a36036f4-da6d-4d14-d070-3ff943954b27"
      },
      "execution_count": null,
      "outputs": [
        {
          "name": "stdout",
          "output_type": "stream",
          "text": [
            "Student answering : absent mam\n"
          ]
        },
        {
          "output_type": "execute_result",
          "data": {
            "text/plain": [
              "'Student with roll.no.45 is absent'"
            ],
            "application/vnd.google.colaboratory.intrinsic+json": {
              "type": "string"
            }
          },
          "metadata": {},
          "execution_count": 106
        }
      ]
    },
    {
      "cell_type": "code",
      "source": [
        "std_data=attendance(45)\n",
        "print(std_data)  #storing in attendance data"
      ],
      "metadata": {
        "colab": {
          "base_uri": "https://localhost:8080/"
        },
        "id": "fWrSk1_QdPIy",
        "outputId": "17a3e087-f42c-4af7-aa28-7d890bf1504b"
      },
      "execution_count": null,
      "outputs": [
        {
          "output_type": "stream",
          "name": "stdout",
          "text": [
            "Student answering : absent \n",
            "Student with roll.no.45 is absent\n"
          ]
        }
      ]
    },
    {
      "cell_type": "code",
      "source": [
        "#5. Define a function that accepts n values and returns the maximum of n values.\n",
        "num_list=[]\n",
        "def maxi():\n",
        "  n=int(input(\"Enter number of values to be taken by the function: \"))\n",
        "  g=0\n",
        "  i=0\n",
        "  while g<n and i<n:\n",
        "    val=int(input(\"Enter a numerical value: \"))\n",
        "    num_list.insert(i,val)\n",
        "    i=i+1\n",
        "    g=g+1\n",
        "  num_list.sort()\n",
        "  return 'Maximum value of the {} numbers is: {}'.format(n,num_list[-1])"
      ],
      "metadata": {
        "id": "Bv1uyoAuU6EM"
      },
      "execution_count": null,
      "outputs": []
    },
    {
      "cell_type": "code",
      "source": [
        "maxi()"
      ],
      "metadata": {
        "colab": {
          "base_uri": "https://localhost:8080/",
          "height": 226
        },
        "id": "hs-Mf2obeP8O",
        "outputId": "d2312631-fcd8-4cee-890d-7f885fffd36a"
      },
      "execution_count": null,
      "outputs": [
        {
          "name": "stdout",
          "output_type": "stream",
          "text": [
            "Enter number of values to be taken by the function: 10\n",
            "Enter a numerical value: 13\n",
            "Enter a numerical value: 14\n",
            "Enter a numerical value: 12\n",
            "Enter a numerical value: 5\n",
            "Enter a numerical value: 13\n",
            "Enter a numerical value: 4\n",
            "Enter a numerical value: 8\n",
            "Enter a numerical value: 19\n",
            "Enter a numerical value: 4\n",
            "Enter a numerical value: 2\n"
          ]
        },
        {
          "output_type": "execute_result",
          "data": {
            "text/plain": [
              "'Maximum value of the 10 numbers is: 19'"
            ],
            "application/vnd.google.colaboratory.intrinsic+json": {
              "type": "string"
            }
          },
          "metadata": {},
          "execution_count": 121
        }
      ]
    },
    {
      "cell_type": "code",
      "source": [
        "#6.Define a function which counts vowels and consonants in a word.\n",
        "v_list=[]   #list are always most preferrable because they are highly mutable and support a lot of methods and functions\n",
        "c_list=[]\n",
        "def vc(word):\n",
        "  for l in word:\n",
        "    if l=='a' or l=='e' or l=='i' or l=='o' or l=='u':\n",
        "      v_list.append(l)   #do not use return statement as any statement after it will not be executed\n",
        "    else:\n",
        "      c_list.append(l)   #if you dont want repeated vowels to be counted,simply use membership operators 'not in' usinf conditional statements\n",
        "  print('Vowels in the word: ',v_list)\n",
        "  print('Consonants in the word: ',c_list)\n",
        "  yield 'Number of vowels in the entered word : {}'.format(len(v_list))   #return or yield only work inside a user-defined function\n",
        "  yield 'Number of consonants in the entered word : {}'.format(len(c_list))"
      ],
      "metadata": {
        "id": "81fQTG4DeRcA"
      },
      "execution_count": null,
      "outputs": []
    },
    {
      "cell_type": "code",
      "source": [
        "for vcs in vc('mallikarjun'):   #here vc('malli') is a generator object\n",
        "  print(vcs)"
      ],
      "metadata": {
        "colab": {
          "base_uri": "https://localhost:8080/"
        },
        "id": "7pwaPwHv_xFP",
        "outputId": "2331a13b-cecd-49e9-f717-2c6176ceb0d4"
      },
      "execution_count": null,
      "outputs": [
        {
          "output_type": "stream",
          "name": "stdout",
          "text": [
            "Vowels in the word:  ['a', 'i', 'a', 'u']\n",
            "Consonants in the word:  ['m', 'l', 'l', 'k', 'r', 'j', 'n']\n",
            "Number of vowels in the entered word : 4\n",
            "Number of consonants in the entered word : 7\n"
          ]
        }
      ]
    },
    {
      "cell_type": "code",
      "source": [
        "#7.Define a function that returns the factorial of a number.\n",
        "def fact(num):\n",
        "  if num==1:\n",
        "    return num      # i.e return 1 only\n",
        "  else:\n",
        "    return num*fact(num-1)   #using recursive function"
      ],
      "metadata": {
        "id": "Q56tb1mKBKU0"
      },
      "execution_count": null,
      "outputs": []
    },
    {
      "cell_type": "code",
      "source": [
        "fact(7)"
      ],
      "metadata": {
        "colab": {
          "base_uri": "https://localhost:8080/"
        },
        "id": "PU-2y34JDDv_",
        "outputId": "4bcc3151-5b68-4025-bf85-00d067bff7c1"
      },
      "execution_count": null,
      "outputs": [
        {
          "output_type": "execute_result",
          "data": {
            "text/plain": [
              "5040"
            ]
          },
          "metadata": {},
          "execution_count": 30
        }
      ]
    },
    {
      "cell_type": "code",
      "source": [
        "#8.Define a function that accepts radius and returns area of the circle.\n",
        "def arc(radius):\n",
        "  pi=22/7\n",
        "  area=float(pi)*(radius**2)\n",
        "  return 'Area of the circle = {}'.format(area)"
      ],
      "metadata": {
        "id": "d6IivcX0DKPl"
      },
      "execution_count": null,
      "outputs": []
    },
    {
      "cell_type": "code",
      "source": [
        "areas=arc(2)"
      ],
      "metadata": {
        "id": "enem3H1IFXwB"
      },
      "execution_count": null,
      "outputs": []
    },
    {
      "cell_type": "code",
      "source": [
        "areas"
      ],
      "metadata": {
        "colab": {
          "base_uri": "https://localhost:8080/",
          "height": 36
        },
        "id": "q3P94LRtFYpJ",
        "outputId": "87e0dff5-3bfd-4c0c-d2b3-cf4d7ea6155d"
      },
      "execution_count": null,
      "outputs": [
        {
          "output_type": "execute_result",
          "data": {
            "text/plain": [
              "'Area of the circle = 12.571428571428571'"
            ],
            "application/vnd.google.colaboratory.intrinsic+json": {
              "type": "string"
            }
          },
          "metadata": {},
          "execution_count": 38
        }
      ]
    },
    {
      "cell_type": "code",
      "source": [
        "#9.Define a function that takes a number as a parameter\n",
        "   #and checks if the number is prime or not\n",
        "def checkprime(num):\n",
        "  if num==2 or num%2!=0:           #use 'or' logical operator to even allow for 2,3,5 and 7 which are prime numbers\n",
        "    if num==3 or num%3!=0:         #if you want to print all the prime numbers, use while loop or for loop.\n",
        "      if num==5 or num%5!=0:        #but if we only want to check if the number is prime or not, use conditional statements\n",
        "        if num==7 or num%7!=0:\n",
        "          return 'Number is prime'\n",
        "  else:\n",
        "    return 'Number is composite'"
      ],
      "metadata": {
        "id": "_VEoMl6NGa4X"
      },
      "execution_count": null,
      "outputs": []
    },
    {
      "cell_type": "code",
      "source": [
        "checkprime(121)"
      ],
      "metadata": {
        "colab": {
          "base_uri": "https://localhost:8080/",
          "height": 36
        },
        "id": "A2uuyJY_KpLA",
        "outputId": "761eb4f1-77c3-4ce8-bee5-b5e3a13e2c81"
      },
      "execution_count": null,
      "outputs": [
        {
          "output_type": "execute_result",
          "data": {
            "text/plain": [
              "'Number is prime'"
            ],
            "application/vnd.google.colaboratory.intrinsic+json": {
              "type": "string"
            }
          },
          "metadata": {},
          "execution_count": 52
        }
      ]
    },
    {
      "cell_type": "code",
      "source": [
        "#10.Mary wants to run a 25-mile marathon. When she attempts to sign up for the marathon,\n",
        "#she notices the sign-up sheet doesn't directly state the marathon's length.\n",
        "#Instead, the marathon's length is listed in small, different portions.\n",
        "#Help Mary find out how long the marathon actually is.\n",
        "#So create a function that returns True if the marathon is 25 miles long, otherwise, return False.\n",
        "\n",
        "mlen_list=[]\n",
        "def run():\n",
        "  d=1\n",
        "  n=int(input(\"Enter number of portions/lengths listed: \"))\n",
        "  while d<=n:\n",
        "    portions=int(input(\"Enter the {}st portion/length listed: \".format(d)))\n",
        "    if portions<0:\n",
        "      portions=-(int(portions))    #negative distances which are not possible converted to positive distances\n",
        "    mlen_list.append(int(portions))\n",
        "    d=d+1\n",
        "  i=0\n",
        "  sum=0\n",
        "  while i<len(mlen_list):\n",
        "    sum=sum+mlen_list[i]\n",
        "    i=i+1\n",
        "  print('Marathon length = {}'.format(sum))\n",
        "  if sum==25:\n",
        "    return True, \"You should run the marathon Mary!\"\n",
        "  else:\n",
        "    return False, \"Don\\'t run the marathon Mary.\" #using escape character \\"
      ],
      "metadata": {
        "id": "7PVbiFkjKs4z"
      },
      "execution_count": null,
      "outputs": []
    },
    {
      "cell_type": "code",
      "source": [
        "run()"
      ],
      "metadata": {
        "colab": {
          "base_uri": "https://localhost:8080/"
        },
        "id": "je-gfOoDQMCj",
        "outputId": "3218a247-b5fa-4e7d-bf3c-03d2b31d50cf"
      },
      "execution_count": null,
      "outputs": [
        {
          "output_type": "stream",
          "name": "stdout",
          "text": [
            "Enter number of portions/lengths listed: 4\n",
            "Enter the 1st portion/length listed: 5\n",
            "Enter the 2st portion/length listed: 7\n",
            "Enter the 3st portion/length listed: -7\n",
            "Enter the 4st portion/length listed: 6\n",
            "Marathon length = 25\n"
          ]
        },
        {
          "output_type": "execute_result",
          "data": {
            "text/plain": [
              "(True, 'You should run the marathon Mary!')"
            ]
          },
          "metadata": {},
          "execution_count": 16
        }
      ]
    },
    {
      "cell_type": "code",
      "source": [
        "#11.Create a function that takes a number and returns True if the number is automorphic, False if it isn't.\n",
        "#** number n is automorphic if n^2 ends in n.\n",
        "\n",
        "def automorphic(number):\n",
        "  str_num=str(number)\n",
        "  sqrnum=str(number**2)\n",
        "  n1=len(str_num)\n",
        "  n2=len(sqrnum)\n",
        "  if number==1:\n",
        "    return 1\n",
        "  elif sqrnum[-1:-n2:-1]==str_num[-1:-(n1+1):-1]:    #works only when n is of two digits\n",
        "    return True\n",
        "  else:\n",
        "    return False"
      ],
      "metadata": {
        "id": "y1VjO3366Yij"
      },
      "execution_count": null,
      "outputs": []
    },
    {
      "cell_type": "code",
      "source": [
        "automorphic(25)"
      ],
      "metadata": {
        "colab": {
          "base_uri": "https://localhost:8080/"
        },
        "id": "aFgvkC0_5gaN",
        "outputId": "26477f9a-3146-448e-d47f-d64f0fb7fe6f"
      },
      "execution_count": null,
      "outputs": [
        {
          "output_type": "execute_result",
          "data": {
            "text/plain": [
              "True"
            ]
          },
          "metadata": {},
          "execution_count": 9
        }
      ]
    },
    {
      "cell_type": "code",
      "source": [
        "#12.Create a function, that will take given a, b, c, and do the following:\n",
        "#Add a to itself b times and Check if the result is divisible by c,\n",
        "#and return true if it is divisible by c or false\n",
        "\n",
        "def result(a,b,c):\n",
        "  a=a+(a*int(b))\n",
        "  if a%int(c)==0:\n",
        "    return True\n",
        "  else:\n",
        "    return False"
      ],
      "metadata": {
        "id": "F7U3up5y7IR6"
      },
      "execution_count": null,
      "outputs": []
    },
    {
      "cell_type": "code",
      "source": [
        "result(3,5,6)"
      ],
      "metadata": {
        "colab": {
          "base_uri": "https://localhost:8080/"
        },
        "id": "27srOQa98Z0K",
        "outputId": "ea635437-9846-4f04-dbc6-917aa83b22aa"
      },
      "execution_count": null,
      "outputs": [
        {
          "output_type": "execute_result",
          "data": {
            "text/plain": [
              "True"
            ]
          },
          "metadata": {},
          "execution_count": 189
        }
      ]
    },
    {
      "cell_type": "code",
      "source": [
        "#13.Create a function that changes specific words into emoticons.\n",
        "#Given a sentence as a string, replace the words smile, grin, sad and mad with their corresponding emoticons.\n",
        "def wtoe():\n",
        "  sent=input(\"Enter a sentence: \")\n",
        "  sent=sent.replace('smile',':D')\n",
        "  sent=sent.replace('grin',':)')\n",
        "  sent=sent.replace('sad',':(')\n",
        "  sent=sent.replace('mad',':P')\n",
        "  return sent"
      ],
      "metadata": {
        "id": "_Bzx5tuNo0Na"
      },
      "execution_count": 80,
      "outputs": []
    },
    {
      "cell_type": "code",
      "source": [
        "wtoe()"
      ],
      "metadata": {
        "colab": {
          "base_uri": "https://localhost:8080/",
          "height": 53
        },
        "id": "oXoZUbaLqClk",
        "outputId": "06699d59-60a5-4b95-e427-41461f547da7"
      },
      "execution_count": 81,
      "outputs": [
        {
          "name": "stdout",
          "output_type": "stream",
          "text": [
            "Enter a sentence: I am sad\n"
          ]
        },
        {
          "output_type": "execute_result",
          "data": {
            "text/plain": [
              "'I am :('"
            ],
            "application/vnd.google.colaboratory.intrinsic+json": {
              "type": "string"
            }
          },
          "metadata": {},
          "execution_count": 81
        }
      ]
    },
    {
      "cell_type": "code",
      "source": [
        " #14.Write a Python program to square and cube every number\n",
        "#in a given list of integers using Lambda\n",
        "\n",
        "def sqrcube(x):\n",
        "  sqr=lambda x:x**2\n",
        "  sqrfn=map(sqr,x)\n",
        "  cube=lambda y:y**3\n",
        "  cubefn=map(cube,x)\n",
        "  print(\"Squares of numbers in the given list: \")\n",
        "  yield list(sqrfn)\n",
        "  print(\"Cubes of numbers in the given list: \")\n",
        "  yield list(cubefn)"
      ],
      "metadata": {
        "id": "C5sd1YMBfgvs"
      },
      "execution_count": 199,
      "outputs": []
    },
    {
      "cell_type": "code",
      "source": [
        "for nos in sqrcube([1,2,3]):\n",
        "  print(nos)"
      ],
      "metadata": {
        "colab": {
          "base_uri": "https://localhost:8080/"
        },
        "id": "sagSk6e2w-au",
        "outputId": "41f9d333-f30f-4713-989d-5497c6a67ba1"
      },
      "execution_count": 200,
      "outputs": [
        {
          "output_type": "stream",
          "name": "stdout",
          "text": [
            "Squares of numbers in the given list: \n",
            "[1, 4, 9]\n",
            "Cubes of numbers in the given list: \n",
            "[1, 8, 27]\n"
          ]
        }
      ]
    },
    {
      "cell_type": "code",
      "source": [
        "#15.Write a python program to check whether a given string is number or not using lambda\n",
        "\n",
        "def check_num(x):\n",
        "  check_num=map(lambda x:x.isdigit(),x)\n",
        "  check_num_obj=list(check_num)\n",
        "  for y in check_num_obj:\n",
        "    if False in check_num_obj:\n",
        "      print(\"Given string is not a number\")\n",
        "      break\n",
        "    else:\n",
        "      print(\"Given string is a number\")\n",
        "      break"
      ],
      "metadata": {
        "id": "F8ZZzos6sH3O"
      },
      "execution_count": 201,
      "outputs": []
    },
    {
      "cell_type": "code",
      "source": [
        "check_num('420')"
      ],
      "metadata": {
        "colab": {
          "base_uri": "https://localhost:8080/"
        },
        "id": "_Z7zwnjnvxbp",
        "outputId": "9f15de15-c362-41b9-f65b-14e4504ed032"
      },
      "execution_count": 202,
      "outputs": [
        {
          "output_type": "stream",
          "name": "stdout",
          "text": [
            "Given string is a number\n"
          ]
        }
      ]
    },
    {
      "cell_type": "code",
      "source": [],
      "metadata": {
        "id": "lSP2AjWCv77S"
      },
      "execution_count": null,
      "outputs": []
    }
  ]
}