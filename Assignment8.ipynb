{
  "nbformat": 4,
  "nbformat_minor": 0,
  "metadata": {
    "colab": {
      "provenance": [],
      "authorship_tag": "ABX9TyOa/oGeMz1dGb493N8NVTx3",
      "include_colab_link": true
    },
    "kernelspec": {
      "name": "python3",
      "display_name": "Python 3"
    },
    "language_info": {
      "name": "python"
    }
  },
  "cells": [
    {
      "cell_type": "markdown",
      "metadata": {
        "id": "view-in-github",
        "colab_type": "text"
      },
      "source": [
        "<a href=\"https://colab.research.google.com/github/HMalli1205/CodingSessions/blob/main/Assignment8.ipynb\" target=\"_parent\"><img src=\"https://colab.research.google.com/assets/colab-badge.svg\" alt=\"Open In Colab\"/></a>"
      ]
    },
    {
      "cell_type": "code",
      "execution_count": null,
      "metadata": {
        "colab": {
          "base_uri": "https://localhost:8080/"
        },
        "id": "OubjuivqIEJw",
        "outputId": "d46b69f7-4c2c-4ba6-8f72-7ea0968947ba"
      },
      "outputs": [
        {
          "output_type": "stream",
          "name": "stdout",
          "text": [
            "Enter the number of elements you want in the list: 6\n",
            "Enter any element: 17\n",
            "Enter any element: 3\n",
            "Enter any element: 3\n",
            "Enter any element: 23\n",
            "Enter any element: 23\n",
            "Enter any element: 2\n",
            "List with the entered elements:  [17, 3, 3, 23, 23, 2]\n",
            "List with duplicate elements removed and arranged in an ascending order:  [2, 3, 17, 23]\n"
          ]
        }
      ],
      "source": [
        "#1.Given a list of numbers, write a python program that returns a new list which has all duplicate elements removed, and is sorted in an increasing(ascending) order.\n",
        "y=0\n",
        "l1=[]\n",
        "n=int(input(\"Enter the number of elements you want in the list: \"))\n",
        "while y<int(n):\n",
        "  elmt=int(input(\"Enter any element: \"))\n",
        "  l1.insert(y,elmt)\n",
        "  y=y+1\n",
        "print(\"List with the entered elements: \",l1)\n",
        "l1.sort()   #for arranging the elements in an increasing order\n",
        "l2=[]\n",
        "for y in l1:\n",
        "  if y not in l2:\n",
        "    l2.append(y)\n",
        "print(\"List with duplicate elements removed and arranged in an ascending order: \",l2)"
      ]
    },
    {
      "cell_type": "code",
      "source": [
        "#2.Write a Python program where you will iterate over both keys and values in dictionaries\n",
        "dict_1={1:'Venumadhav',2:'AmanR',3:'AjayB',4:'KumarAman',5:'SanjanaB'}\n",
        "print(\"Iterating over the roll numbers and corresponding names in the dictionary: \")\n",
        "for data in dict_1.items():\n",
        "  print(data)"
      ],
      "metadata": {
        "colab": {
          "base_uri": "https://localhost:8080/"
        },
        "id": "YGjXCK0VOlLi",
        "outputId": "4e4f2394-1741-4b92-934b-65f0492fc71a"
      },
      "execution_count": null,
      "outputs": [
        {
          "output_type": "stream",
          "name": "stdout",
          "text": [
            "Iterating over the roll numbers and corresponding names in the dictionary: \n",
            "(1, 'Venumadhav')\n",
            "(2, 'AmanR')\n",
            "(3, 'AjayB')\n",
            "(4, 'KumarAman')\n",
            "(5, 'SanjanaB')\n"
          ]
        }
      ]
    },
    {
      "cell_type": "code",
      "source": [
        "#3.Write a Python program that takes a dictionary of student names and returns a list of student names in alphabetical order\n",
        "dict_2={1:'Venumadhav',2:'AmanR',3:'AjayB',4:'KumarAman',5:'SanjanaB',6:'UzmaN',7:\"SwethaK\"}\n",
        "alpha_names_list=[]\n",
        "for y in dict_2.values():\n",
        "  alpha_names_list.append(y)\n",
        "alpha_names_list.sort()\n",
        "print(\"List of student names in alphabetical order:\")\n",
        "print(alpha_names_list)\n"
      ],
      "metadata": {
        "colab": {
          "base_uri": "https://localhost:8080/"
        },
        "id": "ggIPRxQgPdlW",
        "outputId": "3e230223-0670-4c7e-fee0-2f522956f6d7"
      },
      "execution_count": null,
      "outputs": [
        {
          "output_type": "stream",
          "name": "stdout",
          "text": [
            "List of student names in alphabetical order:\n",
            "['AjayB', 'AmanR', 'KumarAman', 'SanjanaB', 'SwethaK', 'UzmaN', 'Venumadhav']\n"
          ]
        }
      ]
    },
    {
      "cell_type": "code",
      "source": [
        "#4.Write a Python which returns a new list of Booleans, from a given number.\n",
        "#Iterating through the number one digit at a time, append True if the digit is 1 and False if it is 0.\n",
        "\n",
        "bool_str='10010011'\n",
        "bool_list=[]\n",
        "for y in bool_str:\n",
        "  if bool(int(y))==True:    #using bool datatype to convert the integer to respective boolean equivalent\n",
        "    bool_list.append('True')\n",
        "  else:\n",
        "    bool_list.append('False')\n",
        "print(bool_list)"
      ],
      "metadata": {
        "colab": {
          "base_uri": "https://localhost:8080/"
        },
        "id": "H5qrmUdeST1p",
        "outputId": "2ed8e4b6-48d0-41ab-9ecf-74259761a6b6"
      },
      "execution_count": null,
      "outputs": [
        {
          "output_type": "stream",
          "name": "stdout",
          "text": [
            "['True', 'False', 'False', 'True', 'False', 'False', 'True', 'True']\n"
          ]
        }
      ]
    },
    {
      "cell_type": "code",
      "source": [
        "#5.Write a Python program where you will return a dictionary where\n",
        "#the keys will be the character and the values will be the occurrence of the character in the string,\n",
        "#and it should apply for any string inputs (dynamic)\n",
        "str1=input(\"Enter any string: \")\n",
        "odict={}\n",
        "for y in str1:            #for loop going through each character in the string but not the repeated characters.In the first loop,because of count(),the entire string is read\n",
        "  chrs=str(y)\n",
        "  occs=str1.count(str(y))        #power of count() - the count method will make sure that a repeated letter is not displayed again, thereby satisfying its functionality.\n",
        "  odict.update({chrs:occs})\n",
        "print(odict)"
      ],
      "metadata": {
        "colab": {
          "base_uri": "https://localhost:8080/"
        },
        "id": "tj15CM3tycz-",
        "outputId": "9130fffb-013a-4365-930d-59691e11c12a"
      },
      "execution_count": null,
      "outputs": [
        {
          "output_type": "stream",
          "name": "stdout",
          "text": [
            "Enter any string: mallareddy\n",
            "{'m': 1, 'a': 2, 'l': 2, 'r': 1, 'e': 1, 'd': 2, 'y': 1}\n"
          ]
        }
      ]
    },
    {
      "cell_type": "code",
      "source": [
        "#6.Given a dictionary containing the names and ages of a group of people, return the name of the oldest person\n",
        "name_age_dict={'Devayani':49,'Dattu':54,'Sai':25,'Chinnu':20}\n",
        "ages_list=[]\n",
        "for ages in name_age_dict.values():\n",
        "  ages_list.append(ages)\n",
        "names_list=[]\n",
        "for names in name_age_dict.keys():\n",
        "  names_list.append(names)\n",
        "ages_list_new=ages_list.copy()\n",
        "ages_list_new.sort()   #ages sorted in ascending/increasing order\n",
        "oldestage=ages_list_new[-1]\n",
        "oldestperson=ages_list.index(oldestage)\n",
        "print(\"Oldest person is: \",names_list[int(oldestperson)])\n"
      ],
      "metadata": {
        "colab": {
          "base_uri": "https://localhost:8080/"
        },
        "id": "6-UMLJsaYMIn",
        "outputId": "a9460d9d-5a23-4741-db66-9cd27e5be4df"
      },
      "execution_count": 58,
      "outputs": [
        {
          "output_type": "stream",
          "name": "stdout",
          "text": [
            "Oldest person is:  Dattu\n"
          ]
        }
      ]
    },
    {
      "cell_type": "code",
      "source": [
        "#7.Write a Python program to create a Rock, Paper, Scissor game, use two inputs for two players.\n",
        "#Conditions: -Rock beats Scissors, Scissors beats Paper, Paper beats Rock\n",
        "p1=input(\"Rock!Papers!Scissors!!!!    Player 1: \")\n",
        "p2=input(\"Rock!Papers!Scissors!!!!    Player 2: \")\n",
        "if p1=='rock' and p2=='scissors':\n",
        "  print('Player1 wins')\n",
        "elif p1=='scissors' and p2=='paper':\n",
        "  print('Player 1 wins')\n",
        "elif p1=='paper' and p2=='rock':\n",
        "  print('Player 1 wins')\n",
        "elif p1=='scissors' and p2=='rock':\n",
        "  print('Player 2 wins')\n",
        "elif p1=='paper' and p2=='scissors':\n",
        "  print('Player 2 wins')\n",
        "elif p1=='rock' and p2=='paper':\n",
        "  print('Player 2 wins')\n",
        "elif p1=='rock' and p2=='rock':\n",
        "  print('no result')\n",
        "elif p1=='scissor' and p2=='scissors':\n",
        "  print('no result')\n",
        "else:\n",
        "  print('no result')"
      ],
      "metadata": {
        "colab": {
          "base_uri": "https://localhost:8080/"
        },
        "id": "eG0oiaLo3A7f",
        "outputId": "259aec5e-085b-4e71-ae58-1c22f322f3f5"
      },
      "execution_count": null,
      "outputs": [
        {
          "output_type": "stream",
          "name": "stdout",
          "text": [
            "Rock!Papers!Scissors!!!!    Player 1: paper\n",
            "Rock!Papers!Scissors!!!!    Player 2: rock\n",
            "Player 1 wins\n"
          ]
        }
      ]
    },
    {
      "cell_type": "code",
      "source": [
        "#8.Create a program that returns a list of items that you can afford in the store with the money you have in your wallet\n",
        "#Create a dictionary with items as key and price as values\n",
        "#Your wallet balance: Rs. 50 /-\n",
        "\n",
        "n=int(input(\"Enter number of items you wish to buy: \"))\n",
        "y=1\n",
        "items_dict={}\n",
        "while y<=n:\n",
        "  item=input(\"Enter the item you wish to buy: \")\n",
        "  price=int(input(\"Enter the price of the item: \"))\n",
        "  items_dict.update({item:price})\n",
        "  y=y+1\n",
        "print(\"Items you wish to buy in the store with their prices: \",items_dict)\n",
        "\n",
        "products_list=[]\n",
        "for products in items_dict.keys():\n",
        "  products_list.append(products)\n",
        "prices_list=[]\n",
        "y=0\n",
        "for prices in items_dict.values():\n",
        "  prices_list.insert(y,prices)\n",
        "  y=y+1\n",
        "\n",
        "bal=50\n",
        "aff_pri=[]\n",
        "for y in prices_list:\n",
        "  if y<bal:\n",
        "    aff_pri.append(y)\n",
        "aff_pri_indvalues=[]\n",
        "for a in aff_pri:\n",
        "  aff_pri_indvalues.append(prices_list.index(a))    #searching for affordable prices in original prices list, very imp\n",
        "aff_products=[]\n",
        "for i in aff_pri_indvalues:\n",
        "  aff_products.append(products_list[i])\n",
        "print(\"Items you can afford in the store with the money in your wallet: \",aff_products)\n",
        ""
      ],
      "metadata": {
        "colab": {
          "base_uri": "https://localhost:8080/"
        },
        "id": "-q3Si9sPzP8u",
        "outputId": "2de803bf-5c66-44c3-c900-ddb663926077"
      },
      "execution_count": 57,
      "outputs": [
        {
          "output_type": "stream",
          "name": "stdout",
          "text": [
            "Enter number of items you wish to buy: 6\n",
            "Enter the item you wish to buy: Water Bottles\n",
            "Enter the price of the item: 20\n",
            "Enter the item you wish to buy: Chips\n",
            "Enter the price of the item: 10\n",
            "Enter the item you wish to buy: Iphone\n",
            "Enter the price of the item: 49000\n",
            "Enter the item you wish to buy: Towel\n",
            "Enter the price of the item: 90\n",
            "Enter the item you wish to buy: Pens\n",
            "Enter the price of the item: 58\n",
            "Enter the item you wish to buy: Cake\n",
            "Enter the price of the item: 400\n",
            "Items you wish to buy in the store with their prices:  {'Water Bottles': 20, 'Chips': 10, 'Iphone': 49000, 'Towel': 90, 'Pens': 58, 'Cake': 400}\n",
            "Items you can afford in the store with the money in your wallet:  ['Water Bottles', 'Chips']\n"
          ]
        }
      ]
    },
    {
      "cell_type": "code",
      "source": [
        "#9.Write a python program to create a union of sets\n",
        "set1=set(())\n",
        "set2=set(())\n",
        "n1=int(input(\"Enter number of elements you want in the first set: \"))\n",
        "n2=int(input(\"Enter number of elements you want in the second set: \"))     #sets do not allow duplicate elements.\n",
        "y=1\n",
        "z=1                                                              #union() cannot combine more than 2 sets at a time\n",
        "while y<=n1:\n",
        "  elmt=input(\"Enter an element in set1: \")                     #sets are unordered i.e there is no order of insertion. hence, union of sets is also unordered\n",
        "  set1.add(elmt)\n",
        "  y=y+1\n",
        "print(\"Set 1: \",set1)\n",
        "while z<=n2:\n",
        "  elmt=input(\"Enter an element in set2: \")\n",
        "  set2.add(elmt)\n",
        "  z=z+1\n",
        "print(\"Set 2:\",set2)\n",
        "uset=set1.union(set2)\n",
        "print(\"Union of the two sets: \",uset)"
      ],
      "metadata": {
        "colab": {
          "base_uri": "https://localhost:8080/"
        },
        "id": "iuTu0AqP_5Z6",
        "outputId": "bd607e96-2eb9-449d-b7e5-d0e8802654c3"
      },
      "execution_count": null,
      "outputs": [
        {
          "output_type": "stream",
          "name": "stdout",
          "text": [
            "Enter number of elements you want in the first set: 3\n",
            "Enter number of elements you want in the second set: 4\n",
            "Enter an element in set1: 1\n",
            "Enter an element in set1: 2\n",
            "Enter an element in set1: 3\n",
            "Set 1:  {'1', '2', '3'}\n",
            "Enter an element in set2: 4\n",
            "Enter an element in set2: 5\n",
            "Enter an element in set2: 1\n",
            "Enter an element in set2: 3\n",
            "Set 2: {'4', '5', '1', '3'}\n",
            "Union of the two sets:  {'4', '1', '3', '5', '2'}\n"
          ]
        }
      ]
    },
    {
      "cell_type": "code",
      "source": [
        "#10.Write a Python program to check if a given value is present in a set or not(Dynamic)\n",
        "cset=set(())     #empty set can be made only using set constructor\n",
        "n=int(input(\"Enter the number of elements you are writing inside the set: \"))\n",
        "y=0\n",
        "while y<n:\n",
        "  elmt=input(\"Enter an element in the set: \")\n",
        "  cset.add(elmt)\n",
        "  y=y+1\n",
        "print(\"Given set: \",cset)\n",
        "x=input(\"Enter any value: \")\n",
        "if x in cset:        #membership operator\n",
        "  print(\"Given value {} is present in the set\".format(x))\n",
        "else:\n",
        "  print(\"Given value {} is not present in the set\".format(x))"
      ],
      "metadata": {
        "colab": {
          "base_uri": "https://localhost:8080/"
        },
        "id": "ejhYqZA3EGS2",
        "outputId": "f3320c23-106f-4c31-f4e3-bb4f65fdf0d8"
      },
      "execution_count": null,
      "outputs": [
        {
          "output_type": "stream",
          "name": "stdout",
          "text": [
            "Enter the number of elements you are writing inside the set: 6\n",
            "Enter an element in the set: 1\n",
            "Enter an element in the set: 2\n",
            "Enter an element in the set: 3\n",
            "Enter an element in the set: 4\n",
            "Enter an element in the set: 5\n",
            "Enter an element in the set: 5\n",
            "Given set:  {'5', '4', '1', '3', '2'}\n",
            "Enter any value: 6\n",
            "Given value 6 is not present in the set\n"
          ]
        }
      ]
    },
    {
      "cell_type": "code",
      "source": [
        "#12.Write a Python program that accepts name of given subject and mark, and\n",
        "#make subjects as keys in dictionaries and marks as values and print the final dictionary with subjects and marks\n",
        "data_dict={}\n",
        "y=0\n",
        "n=int(input(\"Number of subjects: \"))\n",
        "while y<int(n):\n",
        "  sub=input(\"Enter name of subject: \")\n",
        "  mark=int(input(\"Enter marks scored in subject: \"))\n",
        "  data_dict.update({sub:mark})\n",
        "  y=y+1\n",
        "print(\"Dictionary with subjects and marks: \",data_dict)"
      ],
      "metadata": {
        "id": "CxMrJo8rBWf7",
        "colab": {
          "base_uri": "https://localhost:8080/"
        },
        "outputId": "441fd273-cfde-485b-f9dc-b279bbad7ba2"
      },
      "execution_count": null,
      "outputs": [
        {
          "output_type": "stream",
          "name": "stdout",
          "text": [
            "Number of subjects: 5\n",
            "Enter name of subject: English\n",
            "Enter marks scored in subject: 74\n",
            "Enter name of subject: Telugu\n",
            "Enter marks scored in subject: 79\n",
            "Enter name of subject: Mathematics\n",
            "Enter marks scored in subject: 75\n",
            "Enter name of subject: Statistics\n",
            "Enter marks scored in subject: 73\n",
            "Enter name of subject: Data Science\n",
            "Enter marks scored in subject: 71\n",
            "Dictionary with subjects and marks:  {'English': 74, 'Telugu': 79, 'Mathematics': 75, 'Statistics': 73, 'Data Science': 71}\n"
          ]
        }
      ]
    },
    {
      "cell_type": "code",
      "source": [],
      "metadata": {
        "id": "SKSkuK4ZX7Dq"
      },
      "execution_count": null,
      "outputs": []
    }
  ]
}