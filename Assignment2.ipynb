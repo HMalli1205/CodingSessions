{
  "nbformat": 4,
  "nbformat_minor": 0,
  "metadata": {
    "colab": {
      "provenance": [],
      "authorship_tag": "ABX9TyMYeZWJD5Rip+QhiSNCPIMA",
      "include_colab_link": true
    },
    "kernelspec": {
      "name": "python3",
      "display_name": "Python 3"
    },
    "language_info": {
      "name": "python"
    }
  },
  "cells": [
    {
      "cell_type": "markdown",
      "metadata": {
        "id": "view-in-github",
        "colab_type": "text"
      },
      "source": [
        "<a href=\"https://colab.research.google.com/github/HMalli1205/CodingSessions/blob/main/Assignment2.ipynb\" target=\"_parent\"><img src=\"https://colab.research.google.com/assets/colab-badge.svg\" alt=\"Open In Colab\"/></a>"
      ]
    },
    {
      "cell_type": "code",
      "execution_count": null,
      "metadata": {
        "colab": {
          "base_uri": "https://localhost:8080/"
        },
        "id": "VzqET7UcLakl",
        "outputId": "2d4fb1cb-6510-4cfe-de8c-2ea66b813723"
      },
      "outputs": [
        {
          "output_type": "stream",
          "name": "stdout",
          "text": [
            "Enter a number: 100\n",
            "Enter an arithemetic operator(Multiplication or Division): *&/\n",
            "Enter another number: 2\n",
            "100.0*2.0=200.0 & 100.0/2.0=50.0\n"
          ]
        }
      ],
      "source": [
        "#1.Write a program to accept two numbers from the user and calculate multiplication, division\n",
        "num_1=float(input(\"Enter a number: \"))\n",
        "symbol=input(\"Enter an arithemetic operator(Multiplication or Division): \")\n",
        "num_2=float(input(\"Enter another number: \"))\n",
        "if symbol=='*':\n",
        "  print(\"{}*{}={}\".format(num_1,num_2,num_1*num_2))\n",
        "elif symbol=='/':\n",
        "  print(\"{}/{}={}\".format(num_1,num_2,num_1/num_2))\n",
        "elif symbol=='*&/':\n",
        "  print(\"{}*{}={} & {}/{}={}\".format(num_1,num_2,num_1*num_2,num_1,num_2,num_1/num_2))\n",
        "else:\n",
        "  print(\"No result\")"
      ]
    },
    {
      "cell_type": "code",
      "source": [
        "#2. Write a python program to print the characters from a string that are present at an even index\n",
        "str_1=input(\"Enter a string: \")\n",
        "y=0\n",
        "even_str=''\n",
        "while y<len(str_1):\n",
        "  even_str=even_str+str_1[y]\n",
        "  y=y+2\n",
        "print(\"Characters from the string that are present at an even index: \",even_str)"
      ],
      "metadata": {
        "colab": {
          "base_uri": "https://localhost:8080/"
        },
        "id": "OhoGri1S3MZH",
        "outputId": "5338c1f3-e707-4248-d69e-b4eaaad39a45"
      },
      "execution_count": null,
      "outputs": [
        {
          "output_type": "stream",
          "name": "stdout",
          "text": [
            "Enter a string: prabhas\n",
            "Characters from the string that are present at an even index:  pahs\n"
          ]
        }
      ]
    },
    {
      "cell_type": "code",
      "source": [
        "#3.Write a python program to print the characters from a string that are present at an odd index\n",
        "str_2=input(\"Enter a string: \")\n",
        "y=1\n",
        "odd_str=''\n",
        "while y<len(str_2):\n",
        "  odd_str=odd_str+str_2[y]\n",
        "  y=y+2\n",
        "print(\"characters from a string that are present at an odd index: \",odd_str)"
      ],
      "metadata": {
        "colab": {
          "base_uri": "https://localhost:8080/"
        },
        "id": "E2DrWO8X2dkK",
        "outputId": "6826fc50-a553-49f3-bb07-8b298c63904c"
      },
      "execution_count": null,
      "outputs": [
        {
          "output_type": "stream",
          "name": "stdout",
          "text": [
            "Enter a string: prabhas\n",
            "characters from a string that are present at an odd index:  rba\n"
          ]
        }
      ]
    },
    {
      "cell_type": "code",
      "source": [
        "#4.Write a python program which will print the sum of the two numbers if the two numbers are even or it will print the difference of two numbers\n",
        "num_1=int(input(\"Enter a number: \"))\n",
        "num_2=int(input(\"Enter another number: \"))\n",
        "if num_1%2==0 and num_2%2==0:\n",
        "  print(\"The sum of the numbers is {}\".format(num_1+num_2))\n",
        "else:\n",
        "  print(\"The difference of the two numbers is {}\".format(num_1-num_2))\n"
      ],
      "metadata": {
        "colab": {
          "base_uri": "https://localhost:8080/"
        },
        "id": "BhVKJh-QR4xe",
        "outputId": "262c6aae-bc44-44a4-d855-c1eedfee7f3a"
      },
      "execution_count": null,
      "outputs": [
        {
          "output_type": "stream",
          "name": "stdout",
          "text": [
            "Enter a number: 108\n",
            "Enter another number: 801\n",
            "The difference of the two numbers is -693\n"
          ]
        }
      ]
    },
    {
      "cell_type": "code",
      "source": [
        "#5.Write a python program to convert all even indexed characters to uppercase and odd indexed characters to lowercase\n",
        "str=input(\"Enter any string: \")\n",
        "ind=0\n",
        "ulstr=\"\"\n",
        "while ind<len(str):\n",
        "  if ind%2==0:\n",
        "    ulstr=ulstr+str[ind].upper()\n",
        "  else:\n",
        "    ulstr=ulstr+str[ind].lower()\n",
        "  y=y+1\n",
        "print(\"New string with all even indexed characters in uppercase and odd indexed characters in lowercase: \",ulstr)"
      ],
      "metadata": {
        "id": "AA3pe0HlBaCF"
      },
      "execution_count": null,
      "outputs": []
    },
    {
      "cell_type": "code",
      "source": [
        "#6.Write a python program which will print True if the input number is divisible by 5 or else False\n",
        "number=int(input(\"Enter a number: \"))\n",
        "if number%5==0:\n",
        "  print(\"True\")\n",
        "else:\n",
        "  print(\"False\")"
      ],
      "metadata": {
        "colab": {
          "base_uri": "https://localhost:8080/"
        },
        "id": "-7fT45W-lUTE",
        "outputId": "775ec6ce-4297-4f42-fb10-22d90689d6d0"
      },
      "execution_count": null,
      "outputs": [
        {
          "output_type": "stream",
          "name": "stdout",
          "text": [
            "Enter a number: 912809235\n",
            "True\n"
          ]
        }
      ]
    },
    {
      "cell_type": "code",
      "source": [
        "#7.Given two integer numbers return their product only if the product is greater than 1000, else return their sum\n",
        "int_1=int(input(\"Enter first number: \"))\n",
        "int_2=int(input(\"Enter second number: \"))\n",
        "if int_1*int_2>1000:\n",
        "  print(\"Product of the two numbers is {} \".format(int_1*int_2))\n",
        "else:\n",
        "  print(\"Sum of the two numbers is {} \".format(int_1+int_2))"
      ],
      "metadata": {
        "colab": {
          "base_uri": "https://localhost:8080/"
        },
        "id": "gFeoOeX5lmC4",
        "outputId": "a98b490d-5400-488d-943a-b69def0a8e94"
      },
      "execution_count": null,
      "outputs": [
        {
          "output_type": "stream",
          "name": "stdout",
          "text": [
            "Enter first number: 10\n",
            "Enter second number: 100\n",
            "Sum of the two numbers is 110 \n"
          ]
        }
      ]
    },
    {
      "cell_type": "code",
      "source": [
        "#8.Given two strings x, y writes a program to return a new string made of x and y’s first, middle, and last characters\n",
        "str_1=input(\"Enter a string with odd number of characters: \")\n",
        "str_2=input(\"Enter another string with same number of characters: \")\n",
        "x=0\n",
        "newstr=''\n",
        "while x<len(str_1) and x<len(str_2):\n",
        "    newstr=newstr+str_1[x]+str_2[x]\n",
        "    x=x+int((len(str_1)-1)/2)\n",
        "print(\"New string made of first, middle, and last characters in both strings :\",newstr)"
      ],
      "metadata": {
        "colab": {
          "base_uri": "https://localhost:8080/"
        },
        "id": "JymO9VDRAHC_",
        "outputId": "c1071720-95be-4a3b-bf5b-aaf54c0813f4"
      },
      "execution_count": null,
      "outputs": [
        {
          "output_type": "stream",
          "name": "stdout",
          "text": [
            "Enter a string with odd number of characters: malli\n",
            "Enter another string with same number of characters: salar\n",
            "New string made of first, middle, and last characters in both strings : msllir\n"
          ]
        }
      ]
    },
    {
      "cell_type": "code",
      "source": [
        "#9.Write a python program to take three names as input from a user in the single input () function call\n",
        "x=0\n",
        "while x<=2:\n",
        "  string=input(\"Enter a name: \")\n",
        "  x=x+1\n",
        "  print(\"name{} is {}\".format(x,string))"
      ],
      "metadata": {
        "colab": {
          "base_uri": "https://localhost:8080/"
        },
        "id": "7fFuUAOcdWj1",
        "outputId": "7abe9575-7cd4-4053-ccf4-59419f06f64a"
      },
      "execution_count": null,
      "outputs": [
        {
          "output_type": "stream",
          "name": "stdout",
          "text": [
            "Enter a name: malli\n",
            "name1 is malli\n",
            "Enter a name: nithin\n",
            "name2 is nithin\n",
            "Enter a name: litty\n",
            "name3 is litty\n"
          ]
        }
      ]
    },
    {
      "cell_type": "code",
      "source": [
        "#11.Write a Python program to add 'ing' at the end of a given string (string length should be equal to or more than 3). If the given string already ends with 'ing' then add 'ly' instead.If the string length of the given string is less than 3, leave it unchanged\n",
        "str_1=input(\"Enter any string: \")\n",
        "if len(str_1)>=3 and str_1[-3:]!='ing':\n",
        "  print(str_1+'ing')\n",
        "elif len(str_1)>4 and str_1[-3:]=='ing':\n",
        "  print(str_1.replace(str_1[-3:],'ly'))\n",
        "else:\n",
        "  print(str_1)\n"
      ],
      "metadata": {
        "id": "aB8h_smNCmct",
        "colab": {
          "base_uri": "https://localhost:8080/"
        },
        "outputId": "342df4d4-accb-4b3e-8338-36fe228c9c45"
      },
      "execution_count": null,
      "outputs": [
        {
          "output_type": "stream",
          "name": "stdout",
          "text": [
            "Enter any string: mapping\n",
            "mapply\n"
          ]
        }
      ]
    },
    {
      "cell_type": "code",
      "source": [
        "#12.Write a python program that accepts two inputs num1 and num2 print True if one of them is 10 or if their sum is 10 otherwise print False\n",
        "num_1=int(input(\"Enter first number: \"))\n",
        "num_2=int(input(\"Enter second number: \"))\n",
        "if num_1==10 or num_2==10 or num_1+num_2==10:\n",
        "  print('True')\n",
        "else:\n",
        "  print('False')"
      ],
      "metadata": {
        "id": "qYdiXErMdkJI",
        "outputId": "1f2ce136-ac8f-4132-e021-5484f903e27c",
        "colab": {
          "base_uri": "https://localhost:8080/"
        }
      },
      "execution_count": null,
      "outputs": [
        {
          "output_type": "stream",
          "name": "stdout",
          "text": [
            "Enter first number: 4\n",
            "Enter second number: 5\n",
            "False\n"
          ]
        }
      ]
    },
    {
      "cell_type": "code",
      "source": [
        "#13.Write a python program that accepts three inputs x, y and z print True if x*y>z otherwise False\n",
        "x=int(input(\"Enter first number: \"))\n",
        "y=int(input(\"Enter second number: \"))\n",
        "z=int(input(\"Enter third number: \"))\n",
        "if (x*y)>z:\n",
        "  print('True')\n",
        "else:\n",
        "  print('False')"
      ],
      "metadata": {
        "colab": {
          "base_uri": "https://localhost:8080/"
        },
        "id": "wwrjkjj7uYSR",
        "outputId": "95e808a2-0b26-4955-bf64-ba328e5e582e"
      },
      "execution_count": null,
      "outputs": [
        {
          "output_type": "stream",
          "name": "stdout",
          "text": [
            "Enter first number: 2\n",
            "Enter second number: 3\n",
            "Enter third number: 7\n",
            "False\n"
          ]
        }
      ]
    },
    {
      "cell_type": "code",
      "source": [
        "#14.Write a python program that accepts two strings inputs return True depending on whether the total number of characters in the first string is equal to the total number of characters in the second string\n",
        "str_1=input(\"Enter a string:\")\n",
        "str_2=input(\"Enter another string: \")\n",
        "if len(str_1)==len(str_2):\n",
        "  print('True')\n",
        "else:\n",
        "  print('False')"
      ],
      "metadata": {
        "colab": {
          "base_uri": "https://localhost:8080/"
        },
        "id": "jefjM9W0vD82",
        "outputId": "cb98ba72-b1b9-43ba-8962-2f47cf3fedb0"
      },
      "execution_count": null,
      "outputs": [
        {
          "output_type": "stream",
          "name": "stdout",
          "text": [
            "Enter a string:mallii\n",
            "Enter another string: ma lli\n",
            "True\n"
          ]
        }
      ]
    },
    {
      "cell_type": "code",
      "source": [
        "#15. Write a python program that takes a string input, we'll say that the front is the first three characters of the string. If the string length is less than three characters, the front is whatever is there. otherwise, Return a new string, which is three copies of the front\n",
        "str=input(\"Enter a string: \")\n",
        "if len(str)<3:\n",
        "  print(str)\n",
        "else:\n",
        "  print(str[0:3]*3)\n"
      ],
      "metadata": {
        "colab": {
          "base_uri": "https://localhost:8080/"
        },
        "id": "jdClysmsvll9",
        "outputId": "69f3b714-b1e8-485d-ef06-0e468667c4b1"
      },
      "execution_count": null,
      "outputs": [
        {
          "output_type": "stream",
          "name": "stdout",
          "text": [
            "Enter a string: science\n",
            "sciscisci\n"
          ]
        }
      ]
    },
    {
      "cell_type": "code",
      "source": [
        "#16.Write a python program that takes in a word and determines whether or not it is plural. A plural word is one that ends in \"s\".\n",
        "str=input(\"Enter any word: \")\n",
        "if str[-1]=='s':\n",
        "  print('The entered word is plural')\n",
        "else:\n",
        "  print('The entered word is not plural')"
      ],
      "metadata": {
        "colab": {
          "base_uri": "https://localhost:8080/"
        },
        "id": "0mrwbvMfw88y",
        "outputId": "627332bc-9008-4920-ad99-737a5a893487"
      },
      "execution_count": null,
      "outputs": [
        {
          "output_type": "stream",
          "name": "stdout",
          "text": [
            "Enter any word: sciences\n",
            "The entered word is plural\n"
          ]
        }
      ]
    },
    {
      "cell_type": "code",
      "source": [
        "#17.A bartender is writing a simple program to determine whether he should serve drinks to someone. He only serves drinks to people 18 and older and when he's not on break (True means break and False means not a break time). Given the person's age, and whether break time is in session, create a python program which prints whether he should serve drinks or not\n",
        "\n",
        "age=int(input(\"Age of the customer: \"))\n",
        "brk=input(\"Enter whether bartender is on break or not(True means break and False means not on break): \" )\n",
        "if age>=18 and (brk=='False' or brk=='false'):\n",
        "  print(\"Serve the drinks\")\n",
        "elif age<18 and (brk=='False' or brk=='false'):\n",
        "  print(\"Do not serve the drink,customer is underage\")\n",
        "elif  age>=18 and (brk=='True' or brk=='true'):\n",
        "  print(\"Do not serve the drink, you are on a break\")\n",
        "else:\n",
        "  print(\"Result cannot be determined\")\n",
        "\n"
      ],
      "metadata": {
        "colab": {
          "base_uri": "https://localhost:8080/"
        },
        "id": "tN62eWoACyUn",
        "outputId": "1ad9ad41-6236-4016-a56d-c42921586309"
      },
      "execution_count": null,
      "outputs": [
        {
          "output_type": "stream",
          "name": "stdout",
          "text": [
            "Age of the customer: 17\n",
            "Enter whether bartender is on break or not(True means break and False means not on break): False\n",
            "Do not serve the drink,customer is underage\n"
          ]
        }
      ]
    },
    {
      "cell_type": "code",
      "source": [
        "#20. Create a dynamic calculator which asks for numbers and operator and return the answers\n",
        "num1=int(input(\"Enter a number: \"))\n",
        "symbol=input(\"Enter an arithemtic operator symbol: \")\n",
        "num2=int(input(\"Enter another number: \"))\n",
        "if symbol==\"+\":\n",
        "    print(\"{}+{}={}\".format(num1,num2,num1+num2))\n",
        "elif symbol==\"-\":\n",
        "    print(\"{}-{}={}\".format(num1,num2,num1-num2))\n",
        "elif symbol==\"*\":\n",
        "    print(\"{}-{}={}\".format(num1,num2,num1*num2))\n",
        "elif symbol==\"/\":\n",
        "    print(\"{}/{}={}\".format(num1,num2,num1/num2))\n",
        "elif symbol==\"//\":\n",
        "    print(\"{}//{}={}\".format(num1,num2,num1//num2))\n",
        "elif symbol==\"%\":\n",
        "    print(\"{}%{}={}\".format(num1,num2,num1%num2))\n",
        "elif symbol==\"**\":\n",
        "    print(\"{}**{}={}\".format(num1,num2,num1**num2))\n",
        "else:\n",
        "    print(\"No result\")"
      ],
      "metadata": {
        "colab": {
          "base_uri": "https://localhost:8080/"
        },
        "id": "k2vY3cJvxcfG",
        "outputId": "079f684e-159f-471d-d4cf-b8d1849bc89b"
      },
      "execution_count": null,
      "outputs": [
        {
          "output_type": "stream",
          "name": "stdout",
          "text": [
            "Enter a number: 76\n",
            "Enter an arithemtic operator symbol: **\n",
            "Enter another number: 2\n",
            "76**2=5776\n"
          ]
        }
      ]
    }
  ]
}