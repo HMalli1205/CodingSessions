{
  "nbformat": 4,
  "nbformat_minor": 0,
  "metadata": {
    "colab": {
      "provenance": [],
      "authorship_tag": "ABX9TyO+ExjMU0cLdi22dn3q9f4e",
      "include_colab_link": true
    },
    "kernelspec": {
      "name": "python3",
      "display_name": "Python 3"
    },
    "language_info": {
      "name": "python"
    }
  },
  "cells": [
    {
      "cell_type": "markdown",
      "metadata": {
        "id": "view-in-github",
        "colab_type": "text"
      },
      "source": [
        "<a href=\"https://colab.research.google.com/github/HMalli1205/CodingSessions/blob/main/Assignment6.ipynb\" target=\"_parent\"><img src=\"https://colab.research.google.com/assets/colab-badge.svg\" alt=\"Open In Colab\"/></a>"
      ]
    },
    {
      "cell_type": "code",
      "source": [
        "#a.\n",
        "a=1\n",
        "y=1\n",
        "while y<=5:\n",
        "  print(str(y)*a)\n",
        "  y=y+1\n",
        "  a=a+1"
      ],
      "metadata": {
        "colab": {
          "base_uri": "https://localhost:8080/"
        },
        "id": "SAwa2bGkobAY",
        "outputId": "83bbeb1e-3448-4b2c-9e90-15c6c7119e26"
      },
      "execution_count": null,
      "outputs": [
        {
          "output_type": "stream",
          "name": "stdout",
          "text": [
            "1\n",
            "22\n",
            "333\n",
            "4444\n",
            "55555\n"
          ]
        }
      ]
    },
    {
      "cell_type": "code",
      "source": [
        "#b.\n",
        "for y in range(1,2):\n",
        "  for z in range(1,2):\n",
        "    print(z)\n",
        "  for a in range(1,3):\n",
        "    print(a,end=' ')\n",
        "  print()\n",
        "  for b in range(1,4):\n",
        "    print(b,end=' ')\n",
        "  print()\n",
        "  for c in range(1,5):\n",
        "    print(c,end=' ')\n",
        "  print(end='\\n')\n",
        "  for d in range(1,6):\n",
        "    print(d,end=' ')\n",
        "  #the number of rows are beacuse we are using the print() and number of columns is because we are using the print(end=' ')"
      ],
      "metadata": {
        "id": "T2E2OLe-Fg-s",
        "colab": {
          "base_uri": "https://localhost:8080/"
        },
        "outputId": "66a3a49f-fc6d-4714-e273-0a0040958e00"
      },
      "execution_count": null,
      "outputs": [
        {
          "output_type": "stream",
          "name": "stdout",
          "text": [
            "1\n",
            "1 2 \n",
            "1 2 3 \n",
            "1 2 3 4 \n",
            "1 2 3 4 5 "
          ]
        }
      ]
    },
    {
      "cell_type": "code",
      "source": [
        "# or b)\n",
        "x=2\n",
        "while x<=6:\n",
        "  for y in range(1,x):\n",
        "    print(y,end=' ')\n",
        "  x=x+1\n",
        "  print()\n"
      ],
      "metadata": {
        "colab": {
          "base_uri": "https://localhost:8080/"
        },
        "id": "I43ZtZnP_x54",
        "outputId": "5aa6392a-4c2e-4052-a9ef-034bd509cda1"
      },
      "execution_count": null,
      "outputs": [
        {
          "output_type": "stream",
          "name": "stdout",
          "text": [
            "1 \n",
            "1 2 \n",
            "1 2 3 \n",
            "1 2 3 4 \n",
            "1 2 3 4 5 \n"
          ]
        }
      ]
    },
    {
      "cell_type": "code",
      "source": [
        "#c.\n",
        "a=5\n",
        "for y in range(1,2):\n",
        "  while y<=6:\n",
        "    print(str(y)*a)\n",
        "    y=y+1\n",
        "    a=a-1"
      ],
      "metadata": {
        "colab": {
          "base_uri": "https://localhost:8080/"
        },
        "id": "XDVe61N6pmQO",
        "outputId": "dd75c60d-5b74-44db-89e8-b940ae44f41f"
      },
      "execution_count": null,
      "outputs": [
        {
          "output_type": "stream",
          "name": "stdout",
          "text": [
            "11111\n",
            "2222\n",
            "333\n",
            "44\n",
            "5\n",
            "\n"
          ]
        }
      ]
    },
    {
      "cell_type": "code",
      "source": [
        "#d.\n",
        "for y in range(1,2):\n",
        "  for z in range(5,6):\n",
        "    print(z,z,z,z,z,end=' ')\n",
        "    print()\n",
        "    print(z,z,z,z,end=' ')\n",
        "    print()\n",
        "    print(z,z,z,end=' ')\n",
        "    print()\n",
        "    print(z,z,end=' ')\n",
        "    print()\n",
        "    print(z)\n"
      ],
      "metadata": {
        "colab": {
          "base_uri": "https://localhost:8080/"
        },
        "id": "rgMimDNDpzc2",
        "outputId": "ba1dc5db-3a81-46ff-8e7f-6d1074817225"
      },
      "execution_count": null,
      "outputs": [
        {
          "output_type": "stream",
          "name": "stdout",
          "text": [
            "5 5 5 5 5 \n",
            "5 5 5 5 \n",
            "5 5 5 \n",
            "5 5 \n",
            "5\n"
          ]
        }
      ]
    },
    {
      "cell_type": "code",
      "source": [
        "# or d)\n",
        "x=5\n",
        "a=5\n",
        "for x in range(5,6):\n",
        "  while a>=1:\n",
        "    print(str(x)*a)\n",
        "    a=a-1\n"
      ],
      "metadata": {
        "colab": {
          "base_uri": "https://localhost:8080/"
        },
        "id": "66QhbhyMAzpy",
        "outputId": "5da1f797-51c2-4d44-97eb-0c7ea8797e1c"
      },
      "execution_count": null,
      "outputs": [
        {
          "output_type": "stream",
          "name": "stdout",
          "text": [
            "55555\n",
            "5555\n",
            "555\n",
            "55\n",
            "5\n"
          ]
        }
      ]
    },
    {
      "cell_type": "code",
      "source": [
        "#e.\n",
        "x=6\n",
        "while x>=2:\n",
        "  for y in range(0,x):\n",
        "    print(y,end=' ')\n",
        "  print(end='\\n')\n",
        "  x=x-1"
      ],
      "metadata": {
        "colab": {
          "base_uri": "https://localhost:8080/"
        },
        "id": "rYeT1szsy5ia",
        "outputId": "c7966465-61bc-4a3b-c23f-30a8fbdba605"
      },
      "execution_count": null,
      "outputs": [
        {
          "output_type": "stream",
          "name": "stdout",
          "text": [
            "0 1 2 3 4 5 \n",
            "0 1 2 3 4 \n",
            "0 1 2 3 \n",
            "0 1 2 \n",
            "0 1 \n"
          ]
        }
      ]
    },
    {
      "cell_type": "code",
      "source": [
        "#f.\n",
        "y=1\n",
        "for x in range(1,2):\n",
        "  while x<=9:\n",
        "    print(str(x)*y)\n",
        "    x=x+2\n",
        "    y=y+1"
      ],
      "metadata": {
        "colab": {
          "base_uri": "https://localhost:8080/"
        },
        "id": "qZztFTirz9zk",
        "outputId": "7cbb2723-e1e3-4ab7-b2fd-87e39f6ebca9"
      },
      "execution_count": null,
      "outputs": [
        {
          "output_type": "stream",
          "name": "stdout",
          "text": [
            "1\n",
            "33\n",
            "555\n",
            "7777\n",
            "99999\n"
          ]
        }
      ]
    },
    {
      "cell_type": "code",
      "source": [
        "#g.\n",
        "for y in range(1,2):\n",
        "  for z in range(5,6):\n",
        "    print(z,z,z,z,z)\n",
        "  for a in range(4,5):\n",
        "    print(a,a,a,a,end=' ')\n",
        "  print()\n",
        "  for b in range(3,4):\n",
        "    print(b,b,b,end=' ')\n",
        "  print()\n",
        "  for c in [2]:\n",
        "    print(c,c,end=' ')\n",
        "  print()\n",
        "  for d in range(1,2):\n",
        "    print(d,end=' ')\n"
      ],
      "metadata": {
        "colab": {
          "base_uri": "https://localhost:8080/"
        },
        "id": "o4fb2fmcoL0P",
        "outputId": "b9cf132c-adee-4c21-fde6-348693c2fc1d"
      },
      "execution_count": null,
      "outputs": [
        {
          "output_type": "stream",
          "name": "stdout",
          "text": [
            "5 5 5 5 5\n",
            "4 4 4 4 \n",
            "3 3 3 \n",
            "2 2 \n",
            "1 "
          ]
        }
      ]
    },
    {
      "cell_type": "code",
      "source": [
        "# or g)\n",
        "x=5\n",
        "a=5\n",
        "while x>=1:\n",
        "  print(str(x)*a)\n",
        "  x=x-1\n",
        "  a=a-1\n"
      ],
      "metadata": {
        "colab": {
          "base_uri": "https://localhost:8080/"
        },
        "id": "3oG-UxffDaKr",
        "outputId": "e0e8275b-0102-4329-ca7d-fa9e7182f288"
      },
      "execution_count": null,
      "outputs": [
        {
          "output_type": "stream",
          "name": "stdout",
          "text": [
            "55555\n",
            "4444\n",
            "333\n",
            "22\n",
            "1\n"
          ]
        }
      ]
    },
    {
      "cell_type": "code",
      "source": [
        "#h.\n",
        "for y in range(1,2):\n",
        "  for a in [1]:\n",
        "    print(a)\n",
        "  for b in [2,1]:\n",
        "    print(b,end=' ')\n",
        "  print()\n",
        "  for c in [3,2,1]:\n",
        "    print(c,end=' ')\n",
        "  print()\n",
        "  for d in [4,3,2,1]:\n",
        "    print(d,end=' ')\n",
        "  print()\n",
        "  for e in [5,4,3,2,1]:\n",
        "    print(e,end=' ')\n"
      ],
      "metadata": {
        "colab": {
          "base_uri": "https://localhost:8080/"
        },
        "id": "lsfXZ1hupaSl",
        "outputId": "398da8b9-a863-49f4-83b7-b7d63953a889"
      },
      "execution_count": null,
      "outputs": [
        {
          "output_type": "stream",
          "name": "stdout",
          "text": [
            "1\n",
            "2 1 \n",
            "3 2 1 \n",
            "4 3 2 1 \n",
            "5 4 3 2 1 "
          ]
        }
      ]
    },
    {
      "cell_type": "code",
      "source": [
        "# or h)\n",
        "x=1\n",
        "while x<=5:\n",
        "  for y in range(x,0,-1):\n",
        "    print(y,end=' ')\n",
        "  print()\n",
        "  x=x+1"
      ],
      "metadata": {
        "colab": {
          "base_uri": "https://localhost:8080/"
        },
        "id": "NJt5kMGYpNCg",
        "outputId": "ec144f49-cc01-4809-c707-12bcfbdb5a6b"
      },
      "execution_count": null,
      "outputs": [
        {
          "output_type": "stream",
          "name": "stdout",
          "text": [
            "1 \n",
            "2 1 \n",
            "3 2 1 \n",
            "4 3 2 1 \n",
            "5 4 3 2 1 \n"
          ]
        }
      ]
    },
    {
      "cell_type": "code",
      "source": [
        "#i.\n",
        "x=5\n",
        "while x>=1:\n",
        "  for y in range(x,0,-1):\n",
        "    print(y,end=' ')\n",
        "  print()\n",
        "  x=x-1\n",
        "\n"
      ],
      "metadata": {
        "colab": {
          "base_uri": "https://localhost:8080/"
        },
        "id": "THAaYeMa27PB",
        "outputId": "8ee675cc-fe5a-4dce-d1ab-384141006eae"
      },
      "execution_count": null,
      "outputs": [
        {
          "output_type": "stream",
          "name": "stdout",
          "text": [
            "5 4 3 2 1 \n",
            "4 3 2 1 \n",
            "3 2 1 \n",
            "2 1 \n",
            "1 \n"
          ]
        }
      ]
    },
    {
      "cell_type": "code",
      "source": [
        "#j.\n",
        "for x in range(1,2):\n",
        "  for a in [1]:\n",
        "    print(a)\n",
        "  for b in range(3,1,-1):\n",
        "    print(b,end=' ')\n",
        "  print()\n",
        "  for c in range(6,3,-1):\n",
        "    print(c,end=' ')\n",
        "  print()\n",
        "  for d in range(10,6,-1):\n",
        "    print(d,end=' ')\n",
        "\n"
      ],
      "metadata": {
        "colab": {
          "base_uri": "https://localhost:8080/"
        },
        "id": "Z3bC0S493ZQX",
        "outputId": "a6b97e2d-45ce-4765-8fc9-c6428164e0be"
      },
      "execution_count": null,
      "outputs": [
        {
          "output_type": "stream",
          "name": "stdout",
          "text": [
            "1\n",
            "3 2 \n",
            "6 5 4 \n",
            "10 9 8 7 "
          ]
        }
      ]
    },
    {
      "cell_type": "code",
      "source": [
        "#or j)\n",
        "a=1\n",
        "b=0\n",
        "c=2\n",
        "d=1\n",
        "while a<=10 and b<=6:         #in range(),when SV is greater than EV,it means we are using negative index, so use negative stepsize\n",
        "  for x in range(a,b,-1):\n",
        "    print(x,end=' ')\n",
        "  print()\n",
        "  a=a+c\n",
        "  c=c+1\n",
        "  b=b+d\n",
        "  d=d+1\n"
      ],
      "metadata": {
        "colab": {
          "base_uri": "https://localhost:8080/"
        },
        "id": "E4VSDsjEJZPC",
        "outputId": "5e2887ff-9b89-4f01-927a-ca0bd31957bb"
      },
      "execution_count": null,
      "outputs": [
        {
          "output_type": "stream",
          "name": "stdout",
          "text": [
            "1 \n",
            "3 2 \n",
            "6 5 4 \n",
            "10 9 8 7 \n"
          ]
        }
      ]
    },
    {
      "cell_type": "code",
      "source": [
        "#k.\n",
        "for x in range(1,2):\n",
        "  for a in ['','','','',1]:\n",
        "    print(a,end=' ')\n",
        "  print()\n",
        "  for b in ['','','',1,2]:\n",
        "    print(b,end=' ')\n",
        "  print()\n",
        "  for c in ['','',1,2,3]:\n",
        "    print(c,end=' ')\n",
        "  print()\n",
        "  for d in ['',1,2,3,4]:\n",
        "    print(d,end=' ')\n",
        "  print()\n",
        "  for e in range(1,6):\n",
        "    print(e,end=' ')\n"
      ],
      "metadata": {
        "colab": {
          "base_uri": "https://localhost:8080/"
        },
        "id": "3p1yZ8Bf4z09",
        "outputId": "63071c83-c111-4b12-ba22-dc6dd843ea4d"
      },
      "execution_count": null,
      "outputs": [
        {
          "output_type": "stream",
          "name": "stdout",
          "text": [
            "    1 \n",
            "   1 2 \n",
            "  1 2 3 \n",
            " 1 2 3 4 \n",
            "1 2 3 4 5 "
          ]
        }
      ]
    },
    {
      "cell_type": "code",
      "source": [
        "# or k)\n",
        "x=2\n",
        "s=' '\n",
        "t=5\n",
        "while x<=6:\n",
        "  for y in range(1,x):\n",
        "    print(s*t,end=' ')\n",
        "    print(y,end=' ')\n",
        "  print()\n",
        "  x=x+1\n",
        "  t=t-1\n"
      ],
      "metadata": {
        "colab": {
          "base_uri": "https://localhost:8080/"
        },
        "id": "ueGmaCmlqyvo",
        "outputId": "9ac47ab3-28c6-49d9-948b-dd8de50a364c"
      },
      "execution_count": null,
      "outputs": [
        {
          "output_type": "stream",
          "name": "stdout",
          "text": [
            "      1 \n",
            "     1      2 \n",
            "    1     2     3 \n",
            "   1    2    3    4 \n",
            "  1   2   3   4   5 \n"
          ]
        }
      ]
    },
    {
      "cell_type": "code",
      "source": [
        "#n.\n",
        "for x in range(1,2):\n",
        "  for a in [1]:\n",
        "    print(a)\n",
        "  for b in [1,2]:\n",
        "    print(b*2,end=' ')\n",
        "  print(end='\\n')\n",
        "  for c in [1,2,3]:\n",
        "    print(c*3,end=' ')\n",
        "  print()\n",
        "  for d in range(1,5):\n",
        "    print(d*4,end=' ')\n",
        "  print()\n",
        "  for e in range(1,6):\n",
        "    print(e*5,end=' ')\n",
        "  print()\n",
        "  for f in range(1,7):\n",
        "    print(f*6,end=' ')\n",
        "  print()\n",
        "  for g in range(1,8):\n",
        "    print(g*7,end=' ')\n",
        "  print()\n",
        "  for h in range(8,72,8):\n",
        "    print(h,end=' ')\n",
        "\n"
      ],
      "metadata": {
        "colab": {
          "base_uri": "https://localhost:8080/"
        },
        "id": "lc9qq6dr8u2M",
        "outputId": "6c189f14-b139-4374-929f-4802f898c137"
      },
      "execution_count": null,
      "outputs": [
        {
          "output_type": "stream",
          "name": "stdout",
          "text": [
            "1\n",
            "2 4 \n",
            "3 6 9 \n",
            "4 8 12 16 \n",
            "5 10 15 20 25 \n",
            "6 12 18 24 30 36 \n",
            "7 14 21 28 35 42 49 \n",
            "8 16 24 32 40 48 56 64 "
          ]
        }
      ]
    },
    {
      "cell_type": "code",
      "source": [
        "#or n)\n",
        "x=1\n",
        "while x<=8:\n",
        "  for y in range(x,int((x**2)+1),int(x)):\n",
        "    print(y,end=' ')\n",
        "  print()\n",
        "  x=x+1"
      ],
      "metadata": {
        "colab": {
          "base_uri": "https://localhost:8080/"
        },
        "id": "MGkto_3uJmi3",
        "outputId": "f476ee26-f209-4e04-ce07-a4284f6a4995"
      },
      "execution_count": null,
      "outputs": [
        {
          "output_type": "stream",
          "name": "stdout",
          "text": [
            "1 \n",
            "2 4 \n",
            "3 6 9 \n",
            "4 8 12 16 \n",
            "5 10 15 20 25 \n",
            "6 12 18 24 30 36 \n",
            "7 14 21 28 35 42 49 \n",
            "8 16 24 32 40 48 56 64 \n"
          ]
        }
      ]
    },
    {
      "cell_type": "code",
      "source": [
        "#o)\n",
        "y='* '\n",
        "for x in range(1,2):\n",
        "  while x<=5:\n",
        "    print(y*int(x))\n",
        "    x=x+1"
      ],
      "metadata": {
        "colab": {
          "base_uri": "https://localhost:8080/"
        },
        "id": "_IrZmq_jATaF",
        "outputId": "457aeb8c-aba1-46f1-8988-6c6ecb657588"
      },
      "execution_count": null,
      "outputs": [
        {
          "output_type": "stream",
          "name": "stdout",
          "text": [
            "* \n",
            "* * \n",
            "* * * \n",
            "* * * * \n",
            "* * * * * \n"
          ]
        }
      ]
    },
    {
      "cell_type": "code",
      "source": [
        "#p)\n",
        "y='* '\n",
        "x=1\n",
        "s=' '\n",
        "t=10\n",
        "while x<=5:\n",
        "  print(s*t,end=' ')\n",
        "  print(y*int(x))\n",
        "  x=x+1\n",
        "  t=t-2"
      ],
      "metadata": {
        "colab": {
          "base_uri": "https://localhost:8080/"
        },
        "id": "RS-_f9VQqBed",
        "outputId": "94719ba8-a74f-4dea-835a-68c0532cf4da"
      },
      "execution_count": null,
      "outputs": [
        {
          "output_type": "stream",
          "name": "stdout",
          "text": [
            "           * \n",
            "         * * \n",
            "       * * * \n",
            "     * * * * \n",
            "   * * * * * \n"
          ]
        }
      ]
    },
    {
      "cell_type": "code",
      "source": [
        "#q)\n",
        "y='* '\n",
        "x=5\n",
        "while x>=1:\n",
        "  print(y*int(x))\n",
        "  x=x-1"
      ],
      "metadata": {
        "colab": {
          "base_uri": "https://localhost:8080/"
        },
        "id": "Uzwi84IESaiv",
        "outputId": "44195f78-3241-4bed-98ef-12c67031ec43"
      },
      "execution_count": null,
      "outputs": [
        {
          "output_type": "stream",
          "name": "stdout",
          "text": [
            "* * * * * \n",
            "* * * * \n",
            "* * * \n",
            "* * \n",
            "* \n"
          ]
        }
      ]
    },
    {
      "cell_type": "code",
      "source": [
        "#r)\n",
        "y='* '\n",
        "x=6\n",
        "s=' '\n",
        "t=0\n",
        "while x>=1:\n",
        "  print(y*int(x))\n",
        "  print(s*t,end=' ')\n",
        "  x=x-1\n",
        "  t=t+1\n",
        "\n",
        "\n"
      ],
      "metadata": {
        "colab": {
          "base_uri": "https://localhost:8080/"
        },
        "id": "eV766EjquIxw",
        "outputId": "679f1a46-0432-4e57-a4d3-5b494f5bc699"
      },
      "execution_count": null,
      "outputs": [
        {
          "output_type": "stream",
          "name": "stdout",
          "text": [
            "* * * * * * \n",
            " * * * * * \n",
            "  * * * * \n",
            "   * * * \n",
            "    * * \n",
            "     * \n",
            "      "
          ]
        }
      ]
    },
    {
      "cell_type": "code",
      "source": [
        "#s)\n",
        "y='* '\n",
        "x=5\n",
        "s=' '\n",
        "t=0\n",
        "while x>=1:\n",
        "  print(s*t,end=' ')\n",
        "  print(y*int(x))\n",
        "  x=x-1\n",
        "  t=t+2"
      ],
      "metadata": {
        "colab": {
          "base_uri": "https://localhost:8080/"
        },
        "id": "xlub5qFhk-d-",
        "outputId": "46b52a8b-b938-4fe1-f61c-e400f7e237dd"
      },
      "execution_count": null,
      "outputs": [
        {
          "output_type": "stream",
          "name": "stdout",
          "text": [
            " * * * * * \n",
            "   * * * * \n",
            "     * * * \n",
            "       * * \n",
            "         * \n"
          ]
        }
      ]
    },
    {
      "cell_type": "code",
      "source": [
        "#t)\n",
        "y='* '\n",
        "x=1\n",
        "s=' '\n",
        "t=7\n",
        "while x<=7:\n",
        "  print(s*t,end=' ')\n",
        "  print(y*int(x))\n",
        "  x=x+1\n",
        "  t=t-1"
      ],
      "metadata": {
        "colab": {
          "base_uri": "https://localhost:8080/"
        },
        "id": "JkEkWsfttQEH",
        "outputId": "7ddcff7b-5ba9-468c-ed0c-57bf45426867"
      },
      "execution_count": null,
      "outputs": [
        {
          "output_type": "stream",
          "name": "stdout",
          "text": [
            "        * \n",
            "       * * \n",
            "      * * * \n",
            "     * * * * \n",
            "    * * * * * \n",
            "   * * * * * * \n",
            "  * * * * * * * \n"
          ]
        }
      ]
    },
    {
      "cell_type": "code",
      "source": [
        "#u)\n",
        "y='* '\n",
        "x=1\n",
        "while x<=6:\n",
        "  print(y*int(x))\n",
        "  print()\n",
        "  x=x+1\n",
        "print()\n",
        "\n",
        "b=6\n",
        "while b>=1:\n",
        "  print(y*int(b))\n",
        "  print()\n",
        "  b=b-1"
      ],
      "metadata": {
        "colab": {
          "base_uri": "https://localhost:8080/"
        },
        "id": "c2bmj9PfH-nz",
        "outputId": "479d3852-ee7c-449d-8961-25a48595bca0"
      },
      "execution_count": 53,
      "outputs": [
        {
          "output_type": "stream",
          "name": "stdout",
          "text": [
            "* \n",
            "\n",
            "* * \n",
            "\n",
            "* * * \n",
            "\n",
            "* * * * \n",
            "\n",
            "* * * * * \n",
            "\n",
            "* * * * * * \n",
            "\n",
            "\n",
            "* * * * * * \n",
            "\n",
            "* * * * * \n",
            "\n",
            "* * * * \n",
            "\n",
            "* * * \n",
            "\n",
            "* * \n",
            "\n",
            "* \n",
            "\n"
          ]
        }
      ]
    },
    {
      "cell_type": "code",
      "source": [
        "#v)\n",
        "y='* '\n",
        "x=1\n",
        "while x<=5:\n",
        "  print(y*int(x))\n",
        "  print()\n",
        "  x=x+1\n",
        "b=4\n",
        "while b>=1:\n",
        "  print(y*int(b))\n",
        "  print()\n",
        "  b=b-1\n"
      ],
      "metadata": {
        "id": "-6gN9PF-KyEN",
        "colab": {
          "base_uri": "https://localhost:8080/"
        },
        "outputId": "6ce8a5ea-8885-43ab-c773-9ca9f809ccc5"
      },
      "execution_count": 54,
      "outputs": [
        {
          "output_type": "stream",
          "name": "stdout",
          "text": [
            "* \n",
            "\n",
            "* * \n",
            "\n",
            "* * * \n",
            "\n",
            "* * * * \n",
            "\n",
            "* * * * * \n",
            "\n",
            "* * * * \n",
            "\n",
            "* * * \n",
            "\n",
            "* * \n",
            "\n",
            "* \n",
            "\n"
          ]
        }
      ]
    },
    {
      "cell_type": "code",
      "source": [
        "#w)\n",
        "y='* '\n",
        "x=1\n",
        "w=' '\n",
        "v=10\n",
        "while x<=5:\n",
        "  print(w*v,end=' ')\n",
        "  print(y*int(x))\n",
        "  x=x+1\n",
        "  v=v-2\n",
        "a=4\n",
        "b=4\n",
        "while a>=1:\n",
        "  print(w*b,end=' ')\n",
        "  print(y*int(a))\n",
        "  a=a-1\n",
        "  b=b+2\n",
        "\n"
      ],
      "metadata": {
        "colab": {
          "base_uri": "https://localhost:8080/"
        },
        "id": "WnHvnuT1OU4d",
        "outputId": "9fc0a406-cc54-49fe-b160-83de1dabb897"
      },
      "execution_count": 60,
      "outputs": [
        {
          "output_type": "stream",
          "name": "stdout",
          "text": [
            "           * \n",
            "         * * \n",
            "       * * * \n",
            "     * * * * \n",
            "   * * * * * \n",
            "     * * * * \n",
            "       * * * \n",
            "         * * \n",
            "           * \n"
          ]
        }
      ]
    },
    {
      "cell_type": "code",
      "source": [
        "#x)\n",
        "y='* '\n",
        "x=5\n",
        "s=' '\n",
        "t=0\n",
        "while x>=1:\n",
        "  print(s*(t+1),end=' ')\n",
        "  print(y*int(x))\n",
        "  x=x-1\n",
        "  t=t+1\n",
        "a=1\n",
        "b=5\n",
        "while a<=5:\n",
        "  print(s*b,end=' ')\n",
        "  print(y*int(a))\n",
        "  a=a+1\n",
        "  b=b-1\n"
      ],
      "metadata": {
        "colab": {
          "base_uri": "https://localhost:8080/"
        },
        "id": "BZHuvk2PPpLB",
        "outputId": "1c360476-4696-4385-ade9-fc3fd81b6cd8"
      },
      "execution_count": 117,
      "outputs": [
        {
          "output_type": "stream",
          "name": "stdout",
          "text": [
            "  * * * * * \n",
            "   * * * * \n",
            "    * * * \n",
            "     * * \n",
            "      * \n",
            "      * \n",
            "     * * \n",
            "    * * * \n",
            "   * * * * \n",
            "  * * * * * \n"
          ]
        }
      ]
    },
    {
      "cell_type": "code",
      "source": [
        "#y)\n",
        "\n",
        "y='* '\n",
        "x=1\n",
        "s=' '\n",
        "t=5\n",
        "while x<=6:\n",
        "  print(s*t,end=' ')\n",
        "  print(y*int(x))\n",
        "  x=x+1\n",
        "  t=t-1\n",
        "a=5\n",
        "b=1\n",
        "while a>=1:\n",
        "  print(s*b,end=' ')\n",
        "  print(y*int(a))\n",
        "  a=a-1\n",
        "  b=b+1\n",
        ""
      ],
      "metadata": {
        "colab": {
          "base_uri": "https://localhost:8080/"
        },
        "id": "FsxfHNYFQ-H0",
        "outputId": "9fb2375b-47e9-4996-ffd6-7b7171188f7a"
      },
      "execution_count": 119,
      "outputs": [
        {
          "output_type": "stream",
          "name": "stdout",
          "text": [
            "      * \n",
            "     * * \n",
            "    * * * \n",
            "   * * * * \n",
            "  * * * * * \n",
            " * * * * * * \n",
            "  * * * * * \n",
            "   * * * * \n",
            "    * * * \n",
            "     * * \n",
            "      * \n"
          ]
        }
      ]
    },
    {
      "cell_type": "code",
      "source": [],
      "metadata": {
        "id": "eMCI0FtgVoC_"
      },
      "execution_count": null,
      "outputs": []
    }
  ]
}