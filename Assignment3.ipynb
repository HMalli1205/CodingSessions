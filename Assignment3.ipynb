{
  "nbformat": 4,
  "nbformat_minor": 0,
  "metadata": {
    "colab": {
      "provenance": [],
      "authorship_tag": "ABX9TyPNTAEm8Bf9yQ3u/zWcWrTn",
      "include_colab_link": true
    },
    "kernelspec": {
      "name": "python3",
      "display_name": "Python 3"
    },
    "language_info": {
      "name": "python"
    }
  },
  "cells": [
    {
      "cell_type": "markdown",
      "metadata": {
        "id": "view-in-github",
        "colab_type": "text"
      },
      "source": [
        "<a href=\"https://colab.research.google.com/github/HMalli1205/CodingSessions/blob/main/Assignment3.ipynb\" target=\"_parent\"><img src=\"https://colab.research.google.com/assets/colab-badge.svg\" alt=\"Open In Colab\"/></a>"
      ]
    },
    {
      "cell_type": "code",
      "source": [
        "#1.Write a Python program that prints all the numbers from 0 to 6 except 3 and 6\n",
        "x=0\n",
        "while x<=6:\n",
        "  if x%3!=0 or x==0:\n",
        "    print(x)\n",
        "  x=x+1"
      ],
      "metadata": {
        "colab": {
          "base_uri": "https://localhost:8080/"
        },
        "id": "1jgfTQTSdlkf",
        "outputId": "b689fac6-4f58-4b3c-c4a1-28fb80ed71be"
      },
      "execution_count": null,
      "outputs": [
        {
          "output_type": "stream",
          "name": "stdout",
          "text": [
            "0\n",
            "1\n",
            "2\n",
            "4\n",
            "5\n"
          ]
        }
      ]
    },
    {
      "cell_type": "code",
      "execution_count": null,
      "metadata": {
        "colab": {
          "base_uri": "https://localhost:8080/"
        },
        "id": "yeZ6dqeFz7Lb",
        "outputId": "be583cbd-dc98-4b05-9299-8f2b8f46f300"
      },
      "outputs": [
        {
          "output_type": "stream",
          "name": "stdout",
          "text": [
            "Enter a number: 100\n",
            "5050\n"
          ]
        }
      ],
      "source": [
        "#2.Write a program to accept a number from a user and calculate the sum of all numbers from 1 to a given number\n",
        "int_sum=int(input(\"Enter a number: \"))\n",
        "x=1\n",
        "sum=0\n",
        "while x<=int_sum:\n",
        "  sum=sum+x\n",
        "  x=x+1\n",
        "print(sum)"
      ]
    },
    {
      "cell_type": "code",
      "source": [
        "#3.Write a program to print multiplication table of a given number(input)\n",
        "x=int(input(\"Enter a number: \"))\n",
        "y=1\n",
        "print(\"The multiplication table of {} upto 10 multiples is given by: \".format(x))\n",
        "while y<=10:\n",
        "  print(\"{}*{}={}\".format(x,y,x*y))\n",
        "  y=y+1"
      ],
      "metadata": {
        "colab": {
          "base_uri": "https://localhost:8080/"
        },
        "id": "Cz6Djj3iDsxl",
        "outputId": "958688b4-982d-409d-e996-1bdc1de84678"
      },
      "execution_count": null,
      "outputs": [
        {
          "output_type": "stream",
          "name": "stdout",
          "text": [
            "Enter a number: 6\n",
            "The multiplication table of 6 upto 10 multiples is given by: \n",
            "6*1=6\n",
            "6*2=12\n",
            "6*3=18\n",
            "6*4=24\n",
            "6*5=30\n",
            "6*6=36\n",
            "6*7=42\n",
            "6*8=48\n",
            "6*9=54\n",
            "6*10=60\n"
          ]
        }
      ]
    },
    {
      "cell_type": "code",
      "source": [
        "#9.Write a program in Python to reverse a word by using while loop\n",
        "str=input(\"Enter a string: \")\n",
        "y=0\n",
        "print(\"Reversed string:\",end=' ')\n",
        "while y<len(str):\n",
        "  y=y-1\n",
        "  print(str[y],end='')"
      ],
      "metadata": {
        "colab": {
          "base_uri": "https://localhost:8080/",
          "height": 245
        },
        "id": "zQPm6ZNOm0Bd",
        "outputId": "1c7a7623-1991-4d90-b597-0fda6b36a55c"
      },
      "execution_count": null,
      "outputs": [
        {
          "output_type": "stream",
          "name": "stdout",
          "text": [
            "Enter a string: salaarceasefire\n",
            "Reversed string: erifesaecraalas"
          ]
        },
        {
          "output_type": "error",
          "ename": "IndexError",
          "evalue": "ignored",
          "traceback": [
            "\u001b[0;31m---------------------------------------------------------------------------\u001b[0m",
            "\u001b[0;31mIndexError\u001b[0m                                Traceback (most recent call last)",
            "\u001b[0;32m<ipython-input-55-a9b91f4c9fc5>\u001b[0m in \u001b[0;36m<cell line: 5>\u001b[0;34m()\u001b[0m\n\u001b[1;32m      5\u001b[0m \u001b[0;32mwhile\u001b[0m \u001b[0my\u001b[0m\u001b[0;34m<\u001b[0m\u001b[0mlen\u001b[0m\u001b[0;34m(\u001b[0m\u001b[0mstr\u001b[0m\u001b[0;34m)\u001b[0m\u001b[0;34m:\u001b[0m\u001b[0;34m\u001b[0m\u001b[0;34m\u001b[0m\u001b[0m\n\u001b[1;32m      6\u001b[0m   \u001b[0my\u001b[0m\u001b[0;34m=\u001b[0m\u001b[0my\u001b[0m\u001b[0;34m-\u001b[0m\u001b[0;36m1\u001b[0m\u001b[0;34m\u001b[0m\u001b[0;34m\u001b[0m\u001b[0m\n\u001b[0;32m----> 7\u001b[0;31m   \u001b[0mprint\u001b[0m\u001b[0;34m(\u001b[0m\u001b[0mstr\u001b[0m\u001b[0;34m[\u001b[0m\u001b[0my\u001b[0m\u001b[0;34m]\u001b[0m\u001b[0;34m,\u001b[0m\u001b[0mend\u001b[0m\u001b[0;34m=\u001b[0m\u001b[0;34m''\u001b[0m\u001b[0;34m)\u001b[0m\u001b[0;34m\u001b[0m\u001b[0;34m\u001b[0m\u001b[0m\n\u001b[0m",
            "\u001b[0;31mIndexError\u001b[0m: string index out of range"
          ]
        }
      ]
    },
    {
      "cell_type": "code",
      "source": [
        "#13.Write a python program to find the sum of all even numbers from 0 to 10\n",
        "x=0\n",
        "sum=0\n",
        "while x<=10:\n",
        "  sum=sum+x\n",
        "  x=x+2\n",
        "print(\"Sum of all even numbers from 0 to 10 is: {}\".format(sum))"
      ],
      "metadata": {
        "colab": {
          "base_uri": "https://localhost:8080/"
        },
        "id": "Hx99DA24Q6uI",
        "outputId": "8db2ad0e-050f-4a79-ac3c-1f50592ac0e1"
      },
      "execution_count": null,
      "outputs": [
        {
          "output_type": "stream",
          "name": "stdout",
          "text": [
            "Sum of all even numbers from 0 to 10 is 30\n"
          ]
        }
      ]
    },
    {
      "cell_type": "code",
      "source": [
        "#14.Write a python program which will accept a digit and print all the numbers before it till 0\n",
        "digit=int(input(\"Enter a digit: \"))-1\n",
        "while digit>=0:\n",
        "  print(digit)\n",
        "  digit=digit-1"
      ],
      "metadata": {
        "colab": {
          "base_uri": "https://localhost:8080/"
        },
        "id": "abFDPXheSsIP",
        "outputId": "4df64370-881a-4b79-e7e0-fdab9fd623c4"
      },
      "execution_count": null,
      "outputs": [
        {
          "output_type": "stream",
          "name": "stdout",
          "text": [
            "Enter a digit: 4\n",
            "3\n",
            "2\n",
            "1\n",
            "0\n"
          ]
        }
      ]
    },
    {
      "cell_type": "code",
      "source": [
        "#6.Write a Python program which iterates the integers from 1 to 60. For multiples of three print \"Fizz\" instead of the number and for the multiples of five print \"Buzz\". For numbers which are multiples of both three and five print \"FizzBuzz\".\n",
        "x=1\n",
        "while x<=60:\n",
        "  if x%3==0 and x%5==0:\n",
        "    print('FizzBuzz')\n",
        "  elif x%3==0:\n",
        "    print('Fizz')\n",
        "  elif x%5==0:\n",
        "    print('Buzz')\n",
        "  else:\n",
        "    print(x)\n",
        "  x=x+1"
      ],
      "metadata": {
        "id": "VfRx-HSfYjW8",
        "colab": {
          "base_uri": "https://localhost:8080/"
        },
        "outputId": "995e9657-adac-4cb5-bcc3-46297265def3"
      },
      "execution_count": null,
      "outputs": [
        {
          "output_type": "stream",
          "name": "stdout",
          "text": [
            "1\n",
            "2\n",
            "Fizz\n",
            "4\n",
            "Buzz\n",
            "Fizz\n",
            "7\n",
            "8\n",
            "Fizz\n",
            "Buzz\n",
            "11\n",
            "Fizz\n",
            "13\n",
            "14\n",
            "FizzBuzz\n",
            "16\n",
            "17\n",
            "Fizz\n",
            "19\n",
            "Buzz\n",
            "Fizz\n",
            "22\n",
            "23\n",
            "Fizz\n",
            "Buzz\n",
            "26\n",
            "Fizz\n",
            "28\n",
            "29\n",
            "FizzBuzz\n",
            "31\n",
            "32\n",
            "Fizz\n",
            "34\n",
            "Buzz\n",
            "Fizz\n",
            "37\n",
            "38\n",
            "Fizz\n",
            "Buzz\n",
            "41\n",
            "Fizz\n",
            "43\n",
            "44\n",
            "FizzBuzz\n",
            "46\n",
            "47\n",
            "Fizz\n",
            "49\n",
            "Buzz\n",
            "Fizz\n",
            "52\n",
            "53\n",
            "Fizz\n",
            "Buzz\n",
            "56\n",
            "Fizz\n",
            "58\n",
            "59\n",
            "FizzBuzz\n"
          ]
        }
      ]
    },
    {
      "cell_type": "code",
      "source": [
        "#11.Write a program which takes integer inputs from user until he/she presses “q” (Ask to press q to quit after every integer input). Print average and product of all numbers.\n",
        "x=0\n",
        "sum=0\n",
        "product=1\n",
        "while x<=10000:\n",
        "  nums=int(input(\"Enter a number: \"))\n",
        "  ask=input('Press q or Q to quit: ')\n",
        "  if ask!='q' and ask!='Q':\n",
        "    print('.......')\n",
        "  else:\n",
        "    print('Input stopped')\n",
        "    x=x+10000\n",
        "  sum=sum+nums\n",
        "  product=product*nums\n",
        "  x=x+1\n",
        "print(\"Average of the entered numbers is {}:\".format(sum/(x-10000)))\n",
        "print(\"Product of the entered numbers is {}:\".format(product))\n"
      ],
      "metadata": {
        "id": "IsRDJOwNccHf",
        "colab": {
          "base_uri": "https://localhost:8080/"
        },
        "outputId": "86e3f602-c8db-440f-ccb7-211de1efc6fa"
      },
      "execution_count": null,
      "outputs": [
        {
          "output_type": "stream",
          "name": "stdout",
          "text": [
            "Enter a number: 1\n",
            "Press q or Q to quit: \n",
            ".......\n",
            "Enter a number: 2\n",
            "Press q or Q to quit: \n",
            ".......\n",
            "Enter a number: 3\n",
            "Press q or Q to quit: \n",
            ".......\n",
            "Enter a number: 4\n",
            "Press q or Q to quit: q\n",
            "Input stopped\n",
            "Average of the entered numbers is 2.5:\n",
            "Product of the entered numbers is 24:\n"
          ]
        }
      ]
    },
    {
      "cell_type": "code",
      "source": [
        "#10.Write a program which takes 10 integers as input using loop and print their average value on the screen\n",
        "x=0\n",
        "sum=0\n",
        "while x<10:\n",
        "  ints=int(input(\"Enter an integer: \"))\n",
        "  sum=sum+ints\n",
        "  x=x+1\n",
        "print(\"Average of the entered integers is : {}\".format(sum/x))"
      ],
      "metadata": {
        "id": "4FSxAgO_h8xe",
        "colab": {
          "base_uri": "https://localhost:8080/"
        },
        "outputId": "5fc1a2dd-1e7c-43a6-c9d8-495c8572e740"
      },
      "execution_count": null,
      "outputs": [
        {
          "output_type": "stream",
          "name": "stdout",
          "text": [
            "Enter an integer: 1\n",
            "Enter an integer: 2\n",
            "Enter an integer: 3\n",
            "Enter an integer: 4\n",
            "Enter an integer: 5\n",
            "Enter an integer: 6\n",
            "Enter an integer: 7\n",
            "Enter an integer: 8\n",
            "Enter an integer: 9\n",
            "Enter an integer: 10\n",
            "Average of the entered integers is : 5.5\n"
          ]
        }
      ]
    },
    {
      "cell_type": "code",
      "source": [
        "#15.Create a dynamic calculator that will run continually until you press 'c'.\n",
        "x=1\n",
        "while x<=10000:\n",
        "  num_1=int(input(\"Enter a number: \"))\n",
        "  symbol=input(\"Enter an arithemetic operation[+,-,*,/,//,%,**] : \")\n",
        "  num_2=int(input(\"Enter another number: \"))\n",
        "  if symbol=='+':\n",
        "    print(\"{}{}{}={}\".format(num_1,symbol,num_2,num_1+num_2))\n",
        "  elif symbol=='-':\n",
        "    print(\"{}{}{}={}\".format(num_1,symbol,num_2,num_1-num_2))\n",
        "  elif symbol=='*':\n",
        "    print(\"{}{}{}={}\".format(num_1,symbol,num_2,num_1*num_2))\n",
        "  elif symbol=='/':\n",
        "    print(\"{}{}{}={}\".format(num_1,symbol,num_2,num_1/num_2))\n",
        "  elif symbol=='//':\n",
        "    print(\"{}{}{}={}\".format(num_1,symbol,num_2,num_1//num_2))\n",
        "  elif symbol=='%':\n",
        "    print(\"{}{}{}={}\".format(num_1,symbol,num_2,num_1%num_2))\n",
        "  elif symbol=='**':\n",
        "    print(\"{}{}{}={}\".format(num_1,symbol,num_2,num_1**num_2))\n",
        "  else:\n",
        "    print('No result')\n",
        "  x=x+1\n",
        "  ask=input(\"Enter C or c to stop: \")\n",
        "  if ask=='C' or ask=='c':\n",
        "    print('Calculator stopped')\n",
        "    x=x+10000\n",
        "  else:\n",
        "    print('............')"
      ],
      "metadata": {
        "colab": {
          "base_uri": "https://localhost:8080/"
        },
        "id": "FF1BbapnAhA8",
        "outputId": "26a38bc4-c469-4b16-d2a7-c85563aba2ad"
      },
      "execution_count": null,
      "outputs": [
        {
          "output_type": "stream",
          "name": "stdout",
          "text": [
            "Enter a number: 2\n",
            "Enter an arithemetic operation[+,-,*,/,//,%,**] : **\n",
            "Enter another number: 5\n",
            "2**5=32\n",
            "Enter C or c to stop: \n",
            "............\n",
            "Enter a number: 13\n",
            "Enter an arithemetic operation[+,-,*,/,//,%,**] : /\n",
            "Enter another number: 4\n",
            "13/4=3.25\n",
            "Enter C or c to stop: \n",
            "............\n",
            "Enter a number: 2312\n",
            "Enter an arithemetic operation[+,-,*,/,//,%,**] : **\n",
            "Enter another number: 5\n",
            "2312**5=66060088129912832\n",
            "Enter C or c to stop: c\n",
            "Calculator stopped\n"
          ]
        }
      ]
    },
    {
      "cell_type": "code",
      "source": [],
      "metadata": {
        "id": "UBhi1WT6FLvb"
      },
      "execution_count": null,
      "outputs": []
    }
  ]
}