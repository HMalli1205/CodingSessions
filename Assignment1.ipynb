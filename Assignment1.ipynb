{
  "nbformat": 4,
  "nbformat_minor": 0,
  "metadata": {
    "colab": {
      "provenance": []
    },
    "kernelspec": {
      "name": "python3",
      "display_name": "Python 3"
    },
    "language_info": {
      "name": "python"
    }
  },
  "cells": [
    {
      "cell_type": "code",
      "execution_count": null,
      "metadata": {
        "colab": {
          "base_uri": "https://localhost:8080/",
          "height": 36
        },
        "id": "95S6LwtB0Z-7",
        "outputId": "8eac7586-ed9f-4887-da67-78d70831cd61"
      },
      "outputs": [
        {
          "output_type": "execute_result",
          "data": {
            "text/plain": [
              "'i am doing this assignment'"
            ],
            "application/vnd.google.colaboratory.intrinsic+json": {
              "type": "string"
            }
          },
          "metadata": {},
          "execution_count": 107
        }
      ],
      "source": [
        "#1.write a python program to convert a string to lower case\n",
        "str_1=\"I aM DOinG THIS ASSIgnMENT\"\n",
        "str_1.lower()"
      ]
    },
    {
      "cell_type": "code",
      "source": [
        "#2.Write a python program to convert only odd indexed characters to lower case\n",
        "str='PYTHON'\n",
        "str[0]+str[1].lower()+str[2]+str[3].lower()+str[4]+str[5].lower()"
      ],
      "metadata": {
        "colab": {
          "base_uri": "https://localhost:8080/",
          "height": 36
        },
        "id": "RFv5wwmddnwp",
        "outputId": "a5b2967c-6caf-4336-c62a-88ddfad81412"
      },
      "execution_count": null,
      "outputs": [
        {
          "output_type": "execute_result",
          "data": {
            "text/plain": [
              "'PyThOn'"
            ],
            "application/vnd.google.colaboratory.intrinsic+json": {
              "type": "string"
            }
          },
          "metadata": {},
          "execution_count": 2
        }
      ]
    },
    {
      "cell_type": "code",
      "source": [
        "#    or   2.Write a python program to convert only odd indexed characters to lower case(works only in case of unique alphabets)\n",
        "str='ABCDEFGHIJKLMNOPQRSTUVWXYZ'\n",
        "str2=str[1::2]\n",
        "print(str2)\n",
        "str3=str[1::2].lower()\n",
        "print(str3)\n",
        "utol=str.maketrans(str2,str3)\n",
        "print(str.translate(utol))"
      ],
      "metadata": {
        "colab": {
          "base_uri": "https://localhost:8080/"
        },
        "id": "jFySNP8FjeXN",
        "outputId": "a834081b-0ece-4247-8728-e6e77dbb89f1"
      },
      "execution_count": null,
      "outputs": [
        {
          "output_type": "stream",
          "name": "stdout",
          "text": [
            "BDFHJLNPRTVXZ\n",
            "bdfhjlnprtvxz\n",
            "AbCdEfGhIjKlMnOpQrStUvWxYz\n"
          ]
        }
      ]
    },
    {
      "cell_type": "code",
      "source": [
        "#3.Write a python program to convert only even indexed characters to lowercase\n",
        "str='PYTHON'\n",
        "str[0].lower()+str[1]+str[2].lower()+str[3]+str[4].lower()+str[5]\n"
      ],
      "metadata": {
        "colab": {
          "base_uri": "https://localhost:8080/",
          "height": 36
        },
        "id": "4FakZfhVj7OE",
        "outputId": "d499cee9-9768-402e-9795-d32d0720b0ec"
      },
      "execution_count": null,
      "outputs": [
        {
          "output_type": "execute_result",
          "data": {
            "text/plain": [
              "'pYtHoN'"
            ],
            "application/vnd.google.colaboratory.intrinsic+json": {
              "type": "string"
            }
          },
          "metadata": {},
          "execution_count": 8
        }
      ]
    },
    {
      "cell_type": "code",
      "source": [
        "#4. Write a python program to convert only odd indexed characters to uppercase\n",
        "str='python'\n",
        "str[0]+str[1].upper()+str[2]+str[3].upper()+str[4]+str[5].upper()"
      ],
      "metadata": {
        "colab": {
          "base_uri": "https://localhost:8080/",
          "height": 36
        },
        "id": "qKCobLIGlIfO",
        "outputId": "91b13080-4755-41df-b4f7-972c52a60da1"
      },
      "execution_count": null,
      "outputs": [
        {
          "output_type": "execute_result",
          "data": {
            "text/plain": [
              "'pYtHoN'"
            ],
            "application/vnd.google.colaboratory.intrinsic+json": {
              "type": "string"
            }
          },
          "metadata": {},
          "execution_count": 10
        }
      ]
    },
    {
      "cell_type": "code",
      "source": [
        "#5. Write a python program to convert only even indexed characters to uppercase\n",
        "str='python'\n",
        "str[0].upper()+str[1]+str[2].upper()+str[3]+str[4].upper()+str[5]"
      ],
      "metadata": {
        "colab": {
          "base_uri": "https://localhost:8080/",
          "height": 36
        },
        "id": "K79-zhj1l0or",
        "outputId": "fba7aa4b-0037-47ad-8b5b-b3c4750576b0"
      },
      "execution_count": null,
      "outputs": [
        {
          "output_type": "execute_result",
          "data": {
            "text/plain": [
              "'PyThOn'"
            ],
            "application/vnd.google.colaboratory.intrinsic+json": {
              "type": "string"
            }
          },
          "metadata": {},
          "execution_count": 11
        }
      ]
    },
    {
      "cell_type": "code",
      "source": [
        "#  or 5.Write a python program to convert only even indexed characters to uppercase(works only in case of unique alphabets)\n",
        "str='abcdefghijklmnopqrstuvwxyz'\n",
        "str2=str[0::2]\n",
        "print(str2)\n",
        "str3=str[0::2].upper()\n",
        "print(str3)\n",
        "ltou=str.maketrans(str2,str3)\n",
        "print(str.translate(ltou))"
      ],
      "metadata": {
        "colab": {
          "base_uri": "https://localhost:8080/"
        },
        "id": "v_JVtVpbmMBI",
        "outputId": "b193fa1b-7d74-447a-980a-c9c58b58693c"
      },
      "execution_count": null,
      "outputs": [
        {
          "output_type": "stream",
          "name": "stdout",
          "text": [
            "acegikmoqsuwy\n",
            "ACEGIKMOQSUWY\n",
            "AbCdEfGhIjKlMnOpQrStUvWxYz\n"
          ]
        }
      ]
    },
    {
      "cell_type": "code",
      "source": [
        "#6.Write a python program where you have different variables which contains your name,sex,age,phone no,father's name and mother's name. And by using these variables,create a variable named bio-data where you will use all the above mentioned variables\n"
      ],
      "metadata": {
        "id": "Vmt-NaHC3CKG"
      },
      "execution_count": null,
      "outputs": []
    },
    {
      "cell_type": "code",
      "source": [
        "name=input(\"Enter your name:\")\n",
        "sex=input(\"Enter you sex:\")\n",
        "age=int(input(\"Enter your age:\"))\n",
        "phone_no=int(input(\"Enter your phone number:\"))\n",
        "f_name=input(\"Enter your father's name:\")\n",
        "m_name=input(\"Enter your mother's name:\")"
      ],
      "metadata": {
        "colab": {
          "base_uri": "https://localhost:8080/"
        },
        "id": "_YJmpZCz-M92",
        "outputId": "20d4dc67-9338-42d5-97b5-6489eb6c42c4"
      },
      "execution_count": null,
      "outputs": [
        {
          "name": "stdout",
          "output_type": "stream",
          "text": [
            "Enter your name:Ram\n",
            "Enter you sex:Male\n",
            "Enter your age:20\n",
            "Enter your phone number:9324237432\n",
            "Enter your father's name:Dasharath\n",
            "Enter your mother's name:Kausalya\n"
          ]
        }
      ]
    },
    {
      "cell_type": "code",
      "source": [
        "bio_data=\"My name is {}.I am a {}.My age is {}. My phone number is {}. My father's name is {} and my mother's name is {}.\"\n",
        "print(bio_data.format(name,sex,age,phone_no,f_name,m_name))"
      ],
      "metadata": {
        "colab": {
          "base_uri": "https://localhost:8080/"
        },
        "id": "YiFAwP1vAI3y",
        "outputId": "0432c629-f8c4-4d79-88ad-8ed6523dd996"
      },
      "execution_count": null,
      "outputs": [
        {
          "output_type": "stream",
          "name": "stdout",
          "text": [
            "My name is Ram.I am a Male.My age is 20. My phone number is 9324237432. My father's name is Dasharath and my mother's name is Kausalya.\n"
          ]
        }
      ]
    },
    {
      "cell_type": "code",
      "source": [
        "#7.Write a program to count how many times '@' occurred\n",
        "str_loc=\"Sapien@Hyd@Tel@Ind@Asia@Earth@SolarSystem@MilkyWay@Universe\"\n",
        "str_loc.count('@')"
      ],
      "metadata": {
        "colab": {
          "base_uri": "https://localhost:8080/"
        },
        "id": "_aZ5GBfVBXOp",
        "outputId": "90161d5b-c6d9-45df-c6d6-e844e1ce66dd"
      },
      "execution_count": null,
      "outputs": [
        {
          "output_type": "execute_result",
          "data": {
            "text/plain": [
              "8"
            ]
          },
          "metadata": {},
          "execution_count": 48
        }
      ]
    },
    {
      "cell_type": "code",
      "source": [
        "#8.Write a python program to get only names from the string\n",
        "str=\"hmalli.@gmail.com,rnithin.@gmail.com,swetha.@gmail.com,vsannidhi.@gmail.com,sharidwarakesh.@gmail.com\"\n",
        "str.replace(\".@gmail.com\",'')"
      ],
      "metadata": {
        "colab": {
          "base_uri": "https://localhost:8080/",
          "height": 36
        },
        "id": "gVwL_1yVnW6h",
        "outputId": "83685292-c6e7-4c2b-d35a-d3c23b89be2f"
      },
      "execution_count": null,
      "outputs": [
        {
          "output_type": "execute_result",
          "data": {
            "text/plain": [
              "'hmalli,rnithin,swetha,vsannidhi,sharidwarakesh'"
            ],
            "application/vnd.google.colaboratory.intrinsic+json": {
              "type": "string"
            }
          },
          "metadata": {},
          "execution_count": 14
        }
      ]
    },
    {
      "cell_type": "code",
      "source": [
        "#9.Given a string of odd length greater than 9,return a new string made of the middle three characters of a given string\n",
        "str=\"eugvbfuydshybcwdbscubsdjcbsdchsdjjbcbshbsdzcbdshbhbcskdhbcsdkhcsd\"\n",
        "len(str)"
      ],
      "metadata": {
        "colab": {
          "base_uri": "https://localhost:8080/"
        },
        "id": "KuFHD-JtCcDz",
        "outputId": "ccae49ab-c4d8-491a-f68f-7875561a9441"
      },
      "execution_count": null,
      "outputs": [
        {
          "output_type": "execute_result",
          "data": {
            "text/plain": [
              "65"
            ]
          },
          "metadata": {},
          "execution_count": 50
        }
      ]
    },
    {
      "cell_type": "code",
      "source": [
        "str[32:35]"
      ],
      "metadata": {
        "colab": {
          "base_uri": "https://localhost:8080/",
          "height": 36
        },
        "id": "3NaaVGPGD-IP",
        "outputId": "61609017-6c44-49b2-ca63-af6dbc1965d9"
      },
      "execution_count": null,
      "outputs": [
        {
          "output_type": "execute_result",
          "data": {
            "text/plain": [
              "'sdj'"
            ],
            "application/vnd.google.colaboratory.intrinsic+json": {
              "type": "string"
            }
          },
          "metadata": {},
          "execution_count": 51
        }
      ]
    },
    {
      "cell_type": "code",
      "source": [
        "#10.Write a python program to insert a second string in the middle of a string\n",
        "str=\"Python is a language\"\n",
        "stradd='high level programming '\n",
        "str[0:12]+stradd+str[12:]"
      ],
      "metadata": {
        "id": "bn_u_BOV7_wD",
        "colab": {
          "base_uri": "https://localhost:8080/",
          "height": 36
        },
        "outputId": "0979c248-741d-4d32-cbc1-21e49fdb9283"
      },
      "execution_count": null,
      "outputs": [
        {
          "output_type": "execute_result",
          "data": {
            "text/plain": [
              "'Python is a high level programming language'"
            ],
            "application/vnd.google.colaboratory.intrinsic+json": {
              "type": "string"
            }
          },
          "metadata": {},
          "execution_count": 19
        }
      ]
    }
  ]
}