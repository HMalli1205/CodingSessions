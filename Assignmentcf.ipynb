{
 "cells": [
  {
   "cell_type": "code",
   "execution_count": 1,
   "id": "4ee4161a",
   "metadata": {},
   "outputs": [
    {
     "name": "stdout",
     "output_type": "stream",
     "text": [
      "Enter degree of temperature: 100\n",
      "Enter scale of temperature i.e Celsius or Farhenheit : C\n",
      "Temperature in Celsius is : 100.0 degrees Celsius\n",
      "Temperature in Farhenheit is : 212.0 degrees Farhenheit\n"
     ]
    }
   ],
   "source": [
    "tempdegree=float(input(\"Enter degree of temperature: \"))\n",
    "scale=input(\"Enter scale of temperature i.e Celsius or Farhenheit : \")\n",
    "ctof=(int(tempdegree)*(9/5))+32\n",
    "ftoc=(int(tempdegree)-32)*(5/9)\n",
    "if scale=='Celsius' or scale=='C':\n",
    "    print((\"Temperature in Celsius is : {} {}\").format(tempdegree,'degrees Celsius'))\n",
    "    print((\"Temperature in Farhenheit is : {} {}\").format(ctof,'degrees Farhenheit'))\n",
    "elif scale=='Farhenheit' or scale=='F':\n",
    "    print((\"Temperature in Farhenheit is : {} {}\").format(tempdegree,'degrees Farhenheit'))\n",
    "    print((\"Temperature in Celsius is : {} {}\").format(ftoc,'degrees Celsius'))\n",
    "else:\n",
    "    print(\"Temperature cannot be displayed\")\n",
    "    print(\"Temperature conversion cannot be made\")      "
   ]
  },
  {
   "cell_type": "code",
   "execution_count": 2,
   "id": "9a92f032",
   "metadata": {},
   "outputs": [
    {
     "name": "stdout",
     "output_type": "stream",
     "text": [
      "Enter degree of temperature: 100\n",
      "Enter scale of temperature i.e Celsius or Farhenheit : Farhenheit\n",
      "Temperature in Farhenheit is : 100.0 degrees Farhenheit\n",
      "Temperature in Celsius is : 37.77777777777778 degrees Celsius\n"
     ]
    }
   ],
   "source": [
    "tempdegree=float(input(\"Enter degree of temperature: \"))\n",
    "scale=input(\"Enter scale of temperature i.e Celsius or Farhenheit : \")\n",
    "ctof=(int(tempdegree)*(9/5))+32\n",
    "ftoc=(int(tempdegree)-32)*(5/9)\n",
    "if scale=='Celsius' or scale=='C':\n",
    "    print((\"Temperature in Celsius is : {} {}\").format(tempdegree,'degrees Celsius'))\n",
    "    print((\"Temperature in Farhenheit is : {} {}\").format(ctof,'degrees Farhenheit'))\n",
    "elif scale=='Farhenheit' or scale=='F':\n",
    "    print((\"Temperature in Farhenheit is : {} {}\").format(tempdegree,'degrees Farhenheit'))\n",
    "    print((\"Temperature in Celsius is : {} {}\").format(ftoc,'degrees Celsius'))\n",
    "else:\n",
    "    print(\"Temperature cannot be displayed\")\n",
    "    print(\"Temperature conversion cannot be made\")     "
   ]
  },
  {
   "cell_type": "code",
   "execution_count": 3,
   "id": "3118d690",
   "metadata": {},
   "outputs": [
    {
     "name": "stdout",
     "output_type": "stream",
     "text": [
      "Enter degree of temperature: 46\n",
      "Enter scale of temperature i.e Celsius or Farhenheit : cf\n",
      "Temperature cannot be displayed\n",
      "Temperature conversion cannot be made\n"
     ]
    }
   ],
   "source": [
    "tempdegree=float(input(\"Enter degree of temperature: \"))\n",
    "scale=input(\"Enter scale of temperature i.e Celsius or Farhenheit : \")\n",
    "ctof=(int(tempdegree)*(9/5))+32\n",
    "ftoc=(int(tempdegree)-32)*(5/9)\n",
    "if scale=='Celsius' or scale=='C':\n",
    "    print((\"Temperature in Celsius is : {} {}\").format(tempdegree,'degrees Celsius'))\n",
    "    print((\"Temperature in Farhenheit is : {} {}\").format(ctof,'degrees Farhenheit'))\n",
    "elif scale=='Farhenheit' or scale=='F':\n",
    "    print((\"Temperature in Farhenheit is : {} {}\").format(tempdegree,'degrees Farhenheit'))\n",
    "    print((\"Temperature in Celsius is : {} {}\").format(ftoc,'degrees Celsius'))\n",
    "else:\n",
    "    print(\"Temperature cannot be displayed\")\n",
    "    print(\"Temperature conversion cannot be made\")      "
   ]
  },
  {
   "cell_type": "code",
   "execution_count": null,
   "id": "0a9d23e2",
   "metadata": {},
   "outputs": [],
   "source": []
  }
 ],
 "metadata": {
  "kernelspec": {
   "display_name": "Python 3 (ipykernel)",
   "language": "python",
   "name": "python3"
  },
  "language_info": {
   "codemirror_mode": {
    "name": "ipython",
    "version": 3
   },
   "file_extension": ".py",
   "mimetype": "text/x-python",
   "name": "python",
   "nbconvert_exporter": "python",
   "pygments_lexer": "ipython3",
   "version": "3.11.3"
  }
 },
 "nbformat": 4,
 "nbformat_minor": 5
}
